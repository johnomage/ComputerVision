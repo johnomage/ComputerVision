{
 "cells": [
  {
   "cell_type": "markdown",
   "id": "0771253f",
   "metadata": {},
   "source": [
    "ARITHMETIC OPERATIONS\n",
    "Calculates color instensity. This has an overall effect on britness"
   ]
  },
  {
   "cell_type": "code",
   "execution_count": 1,
   "id": "2e67d30e",
   "metadata": {},
   "outputs": [
    {
     "name": "stdout",
     "output_type": "stream",
     "text": [
      "Note: you may need to restart the kernel to use updated packages.\n"
     ]
    },
    {
     "name": "stderr",
     "output_type": "stream",
     "text": [
      "ERROR: Could not find a version that satisfies the requirement cv2 (from versions: none)\n",
      "ERROR: No matching distribution found for cv2\n"
     ]
    }
   ],
   "source": [
    "pip install cv2"
   ]
  },
  {
   "cell_type": "code",
   "execution_count": null,
   "id": "e7b622d5",
   "metadata": {
    "scrolled": true
   },
   "outputs": [],
   "source": [
    "import cv2 as cv\n",
    "import numpy as np\n",
    "\n",
    "image = cv.imread(\"C:/opencv/images/input.jpg\")\n",
    "\n",
    "#create a matrix of ones and multiply it by a number (brightness)\n",
    "intensity_matrix = np.ones(image.shape, \"uint8\") * 75\n",
    "\n",
    "#add matrix to image\n",
    "added = cv.add(image, intensity_matrix)\n",
    "cv.imshow(\"Increased Brightness\", added)\n",
    "cv.waitKey()\n",
    "\n",
    "subtracted = cv.subtract(image, intensity_matrix)\n",
    "cv.imshow(\"Reduced Brightness\", subtracted)\n",
    "cv.waitKey()\n",
    "\n",
    "cv.destroyAllWindows()"
   ]
  },
  {
   "cell_type": "markdown",
   "id": "e60cbc61",
   "metadata": {},
   "source": [
    "BITWISE OPERATIONS AND MASKING"
   ]
  },
  {
   "cell_type": "code",
   "execution_count": null,
   "id": "666ecb47",
   "metadata": {},
   "outputs": [],
   "source": [
    "import cv2 as cv, numpy as np\n",
    "\n",
    "#make square image\n",
    "\n",
    "square = np.zeros((300, 300), np.uint8) #greyscale image. Color would be of (300, 300, 4) syntax\n",
    "cv.rectangle(square, (50, 50), (250, 250), 255, -2)\n",
    "cv.imshow(\"Square\", square)\n",
    "cv.waitKey()\n",
    "\n",
    "#make an ellise\n",
    "ellipse = np.zeros((300, 300), np.uint8)\n",
    "cv.ellipse(ellipse, (150, 150), (150, 150), 30, 0, 180, 255, -1)\n",
    "cv.imshow(\"Ellipse\", ellipse)\n",
    "cv.waitKey()\n",
    "\n",
    "cv.destroyAllWindows()"
   ]
  },
  {
   "cell_type": "code",
   "execution_count": null,
   "id": "09fd8ed0",
   "metadata": {},
   "outputs": [],
   "source": [
    "and_op = cv.bitwise_and(square, ellipse)\n",
    "cv.imshow(\"And\", and_op)\n",
    "cv.waitKey()\n",
    "\n",
    "or_op = cv.bitwise_or(square, ellipse)\n",
    "cv.imshow(\"OR\", or_op)\n",
    "cv.waitKey()\n",
    "\n",
    "xor_op = cv.bitwise_xor(square, ellipse)\n",
    "cv.imshow(\"XOR\", xor_op) \n",
    "cv.waitKey()\n",
    "\n",
    "not_op = cv.bitwise_not(square, ellipse)\n",
    "cv.imshow(\"NOT\", not_op)\n",
    "cv.waitKey()\n",
    "\n",
    "cv.destroyAllWindows()"
   ]
  },
  {
   "cell_type": "code",
   "execution_count": null,
   "id": "aef8568b",
   "metadata": {},
   "outputs": [],
   "source": [
    "import numpy\n",
    "import cv2 as cv"
   ]
  },
  {
   "cell_type": "code",
   "execution_count": null,
   "id": "8525c539",
   "metadata": {},
   "outputs": [],
   "source": [
    "pip install tensorflow"
   ]
  }
 ],
 "metadata": {
  "kernelspec": {
   "display_name": "base",
   "language": "python",
   "name": "python3"
  },
  "language_info": {
   "codemirror_mode": {
    "name": "ipython",
    "version": 3
   },
   "file_extension": ".py",
   "mimetype": "text/x-python",
   "name": "python",
   "nbconvert_exporter": "python",
   "pygments_lexer": "ipython3",
   "version": "3.9.13"
  },
  "vscode": {
   "interpreter": {
    "hash": "689b61601e556818ef8556fab8f9fa73db23d2ad423044f56fc759b769a9cee5"
   }
  }
 },
 "nbformat": 4,
 "nbformat_minor": 5
}
