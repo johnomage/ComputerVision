{
 "cells": [
  {
   "cell_type": "markdown",
   "id": "ee4c6681",
   "metadata": {},
   "source": [
    "# COLOR SPACE\n",
    "\n",
    "RGB\n",
    "\n",
    "RGB = Red (0-255), Green (0-255), Blue (0-255) (But OpenCV uses BGR)\n",
    "\n",
    "\n",
    "CMYK = Cyan, Magenta, Yellow, Key (Black or Key color for details)\n",
    "\n",
    "\n",
    "HSV = Hue Saturation Value/Brightness\n",
    "\n",
    "Hue Color Value: 0 - 179 (Red: 165-15, Green: 45-75, Blue: 90-120)\n",
    "\n",
    "Saturation (Vibrancy of Colors): 0 - 255\n",
    "\n",
    "Value (Brightness or Intensity): 0 - 255\n",
    "\n"
   ]
  },
  {
   "cell_type": "code",
   "execution_count": 1,
   "id": "4b0a0fb0",
   "metadata": {},
   "outputs": [],
   "source": [
    "import cv2 as cv, numpy as np"
   ]
  },
  {
   "cell_type": "code",
   "execution_count": 2,
   "id": "f20ec271",
   "metadata": {},
   "outputs": [
    {
     "name": "stdout",
     "output_type": "stream",
     "text": [
      "12 18 31 \n",
      "Image shape: (415, 622, 3)\n"
     ]
    }
   ],
   "source": [
    "image = cv.imread(\"C:/opencv/images/input.jpg\")\n",
    "\n",
    "# view BGR level for first pixel (0,0)\n",
    "B, G, R = image[0,0]\n",
    "print(B, G, R, \"\\nImage shape:\", image.shape)"
   ]
  },
  {
   "cell_type": "code",
   "execution_count": 3,
   "id": "eee1cf07",
   "metadata": {},
   "outputs": [
    {
     "name": "stdout",
     "output_type": "stream",
     "text": [
      "(415, 622)\n"
     ]
    }
   ],
   "source": [
    "# Convert to grey scale. This prints as only 2D image\n",
    "grey_image = cv.imread(\"C:/opencv/images/input.jpg\", 0)\n",
    "print(grey_image.shape)"
   ]
  },
  {
   "cell_type": "code",
   "execution_count": 5,
   "id": "d563e069",
   "metadata": {},
   "outputs": [],
   "source": [
    "# HSV\n",
    "\n",
    "hsv_image = cv.cvtColor(image, cv.COLOR_BGR2HSV)\n",
    "\n",
    "cv.imshow(\"HSV Image\", hsv_image)\n",
    "cv.imshow(\"Hue Channel\", hsv_image[:, :, 0]) #hsv[:, :, x] = hsv[full height:, full width, HSV channel]\n",
    "cv.imshow(\"Saturation Channel\", hsv_image[:, :, 1])\n",
    "cv.imshow(\"Value Channel\", hsv_image[:, :, 2])\n",
    "\n",
    "cv.waitKey()\n",
    "cv.destroyAllWindows()"
   ]
  },
  {
   "cell_type": "code",
   "execution_count": 6,
   "id": "e97b7bd2",
   "metadata": {},
   "outputs": [],
   "source": [
    "#BGR\n",
    "B, G, R = cv.split(image)\n",
    "cv.imshow(\"Original\", image)\n",
    "cv.imshow(\"B\", B) \n",
    "cv.imshow(\"G\", G)\n",
    "cv.imshow(\"R\", R)\n",
    "\n",
    "cv.waitKey()\n",
    "cv.destroyAllWindows()"
   ]
  },
  {
   "cell_type": "code",
   "execution_count": 14,
   "id": "b271b33a",
   "metadata": {},
   "outputs": [],
   "source": [
    "# Merge the BGR\n",
    "merged = cv.merge([B, G, R])\n",
    "cv.imshow(\"Merged B, G, R\", merged)\n",
    "cv.waitKey()\n",
    "cv.destroyAllWindows()"
   ]
  },
  {
   "cell_type": "code",
   "execution_count": 32,
   "id": "5d889ee9",
   "metadata": {},
   "outputs": [],
   "source": [
    "# Channel amplified\n",
    "B_merged = cv.merge([B+50, G, R])\n",
    "cv.imshow(\"Merged B Amplified\", B_merged)\n",
    "cv.waitKey()\n",
    "cv.destroyAllWindows()"
   ]
  },
  {
   "cell_type": "code",
   "execution_count": 31,
   "id": "5518a8da",
   "metadata": {},
   "outputs": [],
   "source": [
    "# proper BGR splitting and merging\n",
    "\n",
    "b, g , r = cv.split(image)\n",
    "\n",
    "# now create a matrix of zeros with same dimension as the image\n",
    "zeros = np.zeros(image.shape[:2], dtype = \"uint8\")\n",
    "\n",
    "cv.imshow(\"Original\", image)\n",
    "cv.imshow(\"blue channel\", cv.merge([b, zeros, zeros])) \n",
    "cv.imshow(\"green channel\", cv.merge([zeros, g, zeros]))\n",
    "cv.imshow(\"red channel\", cv.merge([zeros, zeros, r]))\n",
    "\n",
    "cv.waitKey()\n",
    "cv.destroyAllWindows()"
   ]
  }
 ],
 "metadata": {
  "kernelspec": {
   "display_name": "Python 3 (ipykernel)",
   "language": "python",
   "name": "python3"
  },
  "language_info": {
   "codemirror_mode": {
    "name": "ipython",
    "version": 3
   },
   "file_extension": ".py",
   "mimetype": "text/x-python",
   "name": "python",
   "nbconvert_exporter": "python",
   "pygments_lexer": "ipython3",
   "version": "3.9.12"
  }
 },
 "nbformat": 4,
 "nbformat_minor": 5
}
