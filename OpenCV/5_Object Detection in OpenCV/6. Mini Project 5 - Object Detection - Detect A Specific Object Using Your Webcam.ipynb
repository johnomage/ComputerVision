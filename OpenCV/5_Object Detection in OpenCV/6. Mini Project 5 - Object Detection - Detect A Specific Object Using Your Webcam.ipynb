{
 "cells": [
  {
   "cell_type": "markdown",
   "id": "eb6f803a",
   "metadata": {},
   "source": [
    "Using SIFT"
   ]
  },
  {
   "cell_type": "code",
   "execution_count": 3,
   "id": "c16487b2",
   "metadata": {},
   "outputs": [],
   "source": [
    "import cv2 as cv, numpy as np\n",
    "from skimage import io\n",
    "\n",
    "def sift_detector(new_image, image_template):\n",
    "    \"\"\"\n",
    "    function that computes input image to template.\n",
    "    It can return the number of SIFT matches between them\n",
    "    \"\"\"\n",
    "    new_image = cv.cvtColor(new_image, cv.COLOR_BGR2GRAY)\n",
    "    template = image_template\n",
    "    \n",
    "    # create SIFT detector\n",
    "    sift = cv.SIFT_create()\n",
    "    \n",
    "    # obtain keypoints and descriptors\n",
    "    keypoints1, descriptors1 = sift.detectAndCompute(new_image, None)\n",
    "    keypoints2, descriptors2 = sift.detectAndCompute(image_template, None)\n",
    "    \n",
    "    # define parameters for Flann Matcher\n",
    "    FLANN_INDEX_KDTREE = 0\n",
    "    index_parameters = dict(algorithm=FLANN_INDEX_KDTREE, trees=3)\n",
    "    search_parameters = dict(checks=100)\n",
    "    \n",
    "    #create flann Matcher object\n",
    "    flann = cv.FlannBasedMatcher(index_parameters, search_parameters)\n",
    "    \n",
    "    #obtain matches using k-nearest neighbour method, and result is:\n",
    "    matches = flann.knnMatch(descriptors1, descriptors2, k=2)\n",
    "    \n",
    "    # store good matches using Lowe's ratio test\n",
    "    good_matches = []\n",
    "    for m,n in matches:\n",
    "        if m.distance < .7 * n.distance:\n",
    "            good_matches.append(m)\n",
    "    return len(good_matches)\n",
    "\n"
   ]
  },
  {
   "cell_type": "code",
   "execution_count": 4,
   "id": "15cd2d77",
   "metadata": {},
   "outputs": [
    {
     "ename": "error",
     "evalue": "OpenCV(4.5.3) C:\\Users\\runneradmin\\AppData\\Local\\Temp\\pip-req-build-u4kjpz2z\\opencv\\modules\\imgproc\\src\\color.cpp:182: error: (-215:Assertion failed) !_src.empty() in function 'cv::cvtColor'\n",
     "output_type": "error",
     "traceback": [
      "\u001b[1;31m---------------------------------------------------------------------------\u001b[0m",
      "\u001b[1;31merror\u001b[0m                                     Traceback (most recent call last)",
      "\u001b[1;32m<ipython-input-4-0937f11f0b45>\u001b[0m in \u001b[0;36m<module>\u001b[1;34m\u001b[0m\n\u001b[0;32m     24\u001b[0m \u001b[1;33m\u001b[0m\u001b[0m\n\u001b[0;32m     25\u001b[0m     \u001b[1;31m#get num of SIFT matches\u001b[0m\u001b[1;33m\u001b[0m\u001b[1;33m\u001b[0m\u001b[1;33m\u001b[0m\u001b[0m\n\u001b[1;32m---> 26\u001b[1;33m     \u001b[0mmatches\u001b[0m \u001b[1;33m=\u001b[0m \u001b[0msift_detector\u001b[0m\u001b[1;33m(\u001b[0m\u001b[0mcropped\u001b[0m\u001b[1;33m,\u001b[0m \u001b[0mimage_template\u001b[0m\u001b[1;33m)\u001b[0m\u001b[1;33m\u001b[0m\u001b[1;33m\u001b[0m\u001b[0m\n\u001b[0m\u001b[0;32m     27\u001b[0m \u001b[1;33m\u001b[0m\u001b[0m\n\u001b[0;32m     28\u001b[0m     \u001b[1;31m# display status string showing the current no of matches\u001b[0m\u001b[1;33m\u001b[0m\u001b[1;33m\u001b[0m\u001b[1;33m\u001b[0m\u001b[0m\n",
      "\u001b[1;32m<ipython-input-3-112e0b606f71>\u001b[0m in \u001b[0;36msift_detector\u001b[1;34m(new_image, image_template)\u001b[0m\n\u001b[0;32m      7\u001b[0m     \u001b[0mIt\u001b[0m \u001b[0mcan\u001b[0m \u001b[1;32mreturn\u001b[0m \u001b[0mthe\u001b[0m \u001b[0mnumber\u001b[0m \u001b[0mof\u001b[0m \u001b[0mSIFT\u001b[0m \u001b[0mmatches\u001b[0m \u001b[0mbetween\u001b[0m \u001b[0mthem\u001b[0m\u001b[1;33m\u001b[0m\u001b[1;33m\u001b[0m\u001b[0m\n\u001b[0;32m      8\u001b[0m     \"\"\"\n\u001b[1;32m----> 9\u001b[1;33m     \u001b[0mnew_image\u001b[0m \u001b[1;33m=\u001b[0m \u001b[0mcv\u001b[0m\u001b[1;33m.\u001b[0m\u001b[0mcvtColor\u001b[0m\u001b[1;33m(\u001b[0m\u001b[0mnew_image\u001b[0m\u001b[1;33m,\u001b[0m \u001b[0mcv\u001b[0m\u001b[1;33m.\u001b[0m\u001b[0mCOLOR_BGR2GRAY\u001b[0m\u001b[1;33m)\u001b[0m\u001b[1;33m\u001b[0m\u001b[1;33m\u001b[0m\u001b[0m\n\u001b[0m\u001b[0;32m     10\u001b[0m     \u001b[0mtemplate\u001b[0m \u001b[1;33m=\u001b[0m \u001b[0mimage_template\u001b[0m\u001b[1;33m\u001b[0m\u001b[1;33m\u001b[0m\u001b[0m\n\u001b[0;32m     11\u001b[0m \u001b[1;33m\u001b[0m\u001b[0m\n",
      "\u001b[1;31merror\u001b[0m: OpenCV(4.5.3) C:\\Users\\runneradmin\\AppData\\Local\\Temp\\pip-req-build-u4kjpz2z\\opencv\\modules\\imgproc\\src\\color.cpp:182: error: (-215:Assertion failed) !_src.empty() in function 'cv::cvtColor'\n"
     ]
    }
   ],
   "source": [
    "cap = cv.VideoCapture(0)\n",
    "image_template = cv.imread(\"C:/opencv/images/box_in_scene.png\")\n",
    "\n",
    "while True:\n",
    "#     get webcam images\n",
    "    ret, frame = cap.read()\n",
    "    \n",
    "    #get height and width of webcam frame\n",
    "    height, width = frame.shape[:2]\n",
    "    \n",
    "    # define ROI box dimensions\n",
    "    x1 = int(width/3)\n",
    "    y1 = int(3*height/4)\n",
    "    x2 = int(2*x1)\n",
    "    y2 = int(y1/3)\n",
    "    \n",
    "    #draw rectangular window for our region of interest\n",
    "    cv.rectangle(frame, (x1,y1), (x2,y2), (0,255,0), 2)\n",
    "    #then crop the window observation\n",
    "    cropped = frame[y2:y1, x2:x1]\n",
    "    \n",
    "    #flip frame orientation horizontally\n",
    "    frame = cv.flip(frame, 1)\n",
    "    \n",
    "    #get num of SIFT matches\n",
    "    matches = sift_detector(cropped, image_template)\n",
    "    \n",
    "    # display status string showing the current no of matches\n",
    "    cv.putText(frame, str(matches), (450,450), cv.FONT_HERSHEY_COMPLEX, 2, (0,255,0), 1)\n",
    "    \n",
    "    #threshold to indicate object detection, use 10 since SIFT detector returns little false positives\n",
    "    threshold = 10\n",
    "    \n",
    "    # object is detected if matches > 10\n",
    "    if matches > threshold:\n",
    "        cv.rectangle(frame, (x1,y1), (x2,y2), (0,255,0), 2)\n",
    "        cv.putText(frame, \"Match found!\", (450,450), cv.FONT_HERSHEY_COMPLEX, 2, (0,255,0), 1)\n",
    "        \n",
    "    cv.imshow(\"Object detector using SIFT\", frame)\n",
    "    if cv.waitKey(1) == 13: #enter key code is 13\n",
    "        break\n",
    "    \n",
    "cap.release()\n",
    "cv.destroyAllWindows()"
   ]
  },
  {
   "cell_type": "markdown",
   "id": "7948663b",
   "metadata": {},
   "source": []
  },
  {
   "cell_type": "markdown",
   "id": "9bcfb657",
   "metadata": {},
   "source": []
  },
  {
   "cell_type": "markdown",
   "id": "090bf8b4",
   "metadata": {},
   "source": [
    "USING ORB"
   ]
  },
  {
   "cell_type": "code",
   "execution_count": 22,
   "id": "9c5c6554",
   "metadata": {},
   "outputs": [],
   "source": [
    "import cv2 as cv, numpy as np\n",
    "# from skimage import io\n",
    "\n",
    "def ORB_detector(new_image, image_template):\n",
    "    \"\"\"\n",
    "    function that computes input image to template.\n",
    "    It can return the number of ORB matches between them\n",
    "    \"\"\"\n",
    "    image = cv.cvtColor(new_image, cv.COLOR_BGR2GRAY)\n",
    "    \n",
    "    # create SIFT detector\n",
    "    orb = cv.ORB(1000, 1.2)\n",
    "    \n",
    "    \n",
    "    \n",
    "    # obtain keypoints and descriptors\n",
    "    (keypoints1, descriptors1) = orb.detectAndCompute(new_image, None)\n",
    "    (keypoints2, descriptors2) = orb.detectAndCompute(image_template, None)\n",
    "    \n",
    "    # define parameters..Matcher\n",
    "    bf = cv.BFMatcher(cv.NORM_HAMMING, crossCheck=2)\n",
    "    \n",
    "    #create flann Matcher object\n",
    "    matches = bf.match(descriptors1, descriptors2)\n",
    "    \n",
    "    matches = sorted(matches, key=lambda val: val.distance)\n",
    "    \n",
    "    #obtain matches using k-nearest neighbour method, and result is:\n",
    "    matches = flann.knnMatch(descriptors1, descriptors2, k=2)\n",
    "    \n",
    "    return len(matches)\n",
    "\n"
   ]
  },
  {
   "cell_type": "code",
   "execution_count": 25,
   "id": "03d73b79",
   "metadata": {},
   "outputs": [
    {
     "ename": "error",
     "evalue": "OpenCV(4.5.3) C:\\Users\\runneradmin\\AppData\\Local\\Temp\\pip-req-build-u4kjpz2z\\opencv\\modules\\imgproc\\src\\color.cpp:182: error: (-215:Assertion failed) !_src.empty() in function 'cv::cvtColor'\n",
     "output_type": "error",
     "traceback": [
      "\u001b[1;31m---------------------------------------------------------------------------\u001b[0m",
      "\u001b[1;31merror\u001b[0m                                     Traceback (most recent call last)",
      "\u001b[1;32m<ipython-input-25-823503c7f4e2>\u001b[0m in \u001b[0;36m<module>\u001b[1;34m\u001b[0m\n\u001b[0;32m     20\u001b[0m     \u001b[0mframe\u001b[0m \u001b[1;33m=\u001b[0m \u001b[0mcv\u001b[0m\u001b[1;33m.\u001b[0m\u001b[0mflip\u001b[0m\u001b[1;33m(\u001b[0m\u001b[0mframe\u001b[0m\u001b[1;33m,\u001b[0m \u001b[1;36m1\u001b[0m\u001b[1;33m)\u001b[0m\u001b[1;33m\u001b[0m\u001b[1;33m\u001b[0m\u001b[0m\n\u001b[0;32m     21\u001b[0m \u001b[1;33m\u001b[0m\u001b[0m\n\u001b[1;32m---> 22\u001b[1;33m     \u001b[0mmatches\u001b[0m \u001b[1;33m=\u001b[0m \u001b[0mORB_detector\u001b[0m\u001b[1;33m(\u001b[0m\u001b[0mcropped\u001b[0m\u001b[1;33m,\u001b[0m \u001b[0mimage_template\u001b[0m\u001b[1;33m)\u001b[0m\u001b[1;33m\u001b[0m\u001b[1;33m\u001b[0m\u001b[0m\n\u001b[0m\u001b[0;32m     23\u001b[0m \u001b[1;33m\u001b[0m\u001b[0m\n\u001b[0;32m     24\u001b[0m \u001b[1;33m\u001b[0m\u001b[0m\n",
      "\u001b[1;32m<ipython-input-22-509e7a1c9089>\u001b[0m in \u001b[0;36mORB_detector\u001b[1;34m(new_image, image_template)\u001b[0m\n\u001b[0;32m      7\u001b[0m     \u001b[0mIt\u001b[0m \u001b[0mcan\u001b[0m \u001b[1;32mreturn\u001b[0m \u001b[0mthe\u001b[0m \u001b[0mnumber\u001b[0m \u001b[0mof\u001b[0m \u001b[0mORB\u001b[0m \u001b[0mmatches\u001b[0m \u001b[0mbetween\u001b[0m \u001b[0mthem\u001b[0m\u001b[1;33m\u001b[0m\u001b[1;33m\u001b[0m\u001b[0m\n\u001b[0;32m      8\u001b[0m     \"\"\"\n\u001b[1;32m----> 9\u001b[1;33m     \u001b[0mimage\u001b[0m \u001b[1;33m=\u001b[0m \u001b[0mcv\u001b[0m\u001b[1;33m.\u001b[0m\u001b[0mcvtColor\u001b[0m\u001b[1;33m(\u001b[0m\u001b[0mnew_image\u001b[0m\u001b[1;33m,\u001b[0m \u001b[0mcv\u001b[0m\u001b[1;33m.\u001b[0m\u001b[0mCOLOR_BGR2GRAY\u001b[0m\u001b[1;33m)\u001b[0m\u001b[1;33m\u001b[0m\u001b[1;33m\u001b[0m\u001b[0m\n\u001b[0m\u001b[0;32m     10\u001b[0m \u001b[1;33m\u001b[0m\u001b[0m\n\u001b[0;32m     11\u001b[0m     \u001b[1;31m# create SIFT detector\u001b[0m\u001b[1;33m\u001b[0m\u001b[1;33m\u001b[0m\u001b[1;33m\u001b[0m\u001b[0m\n",
      "\u001b[1;31merror\u001b[0m: OpenCV(4.5.3) C:\\Users\\runneradmin\\AppData\\Local\\Temp\\pip-req-build-u4kjpz2z\\opencv\\modules\\imgproc\\src\\color.cpp:182: error: (-215:Assertion failed) !_src.empty() in function 'cv::cvtColor'\n"
     ]
    }
   ],
   "source": [
    "cap = cv.VideoCapture(0)\n",
    "image_template = cv.imread(\"C:/opencv/images/box_in_scene.png\")\n",
    "\n",
    "while True:\n",
    "    ret, frame = cap.read()\n",
    "    height, width = frame.shape[:2]\n",
    "    \n",
    "    # define ROI box dimensions\n",
    "    x1 = int(width/3)\n",
    "    y1 = int(3*height/4)\n",
    "    x2 = int(2*x1)\n",
    "    y2 = int(y1/3)\n",
    "    \n",
    "    #draw rectangular window for our region of interest\n",
    "    cv.rectangle(frame, (x1,y1), (x2,y2), (0,255,0), 2)\n",
    "    #then crop the window observation\n",
    "    cropped = frame[y2:y1, x2:x1]\n",
    "    \n",
    "    #flip frame orientation horizontally\n",
    "    frame = cv.flip(frame, 1)\n",
    "    \n",
    "    matches = ORB_detector(cropped, image_template)\n",
    "    \n",
    "    \n",
    "    threshold = 350\n",
    "    \n",
    "    if matches > threshold:\n",
    "        cv.rectangle(frame, (x1,y1), (x2,y2), (0,255,0), 2)\n",
    "        cv.putText(frame, \"Match found!\", (450,450), cv.FONT_HERSHEY_COMPLEX, 2, (0,255,0), 1)\n",
    "        \n",
    "    cv.imshow(\"Object detector using ORB\", frame)\n",
    "    if cv.waitKey(1) == 13: #enter key code is 13\n",
    "        break\n",
    "    \n",
    "cap.release()\n",
    "cv.destroyAllWindows()"
   ]
  }
 ],
 "metadata": {
  "kernelspec": {
   "display_name": "Python 3",
   "language": "python",
   "name": "python3"
  },
  "language_info": {
   "codemirror_mode": {
    "name": "ipython",
    "version": 3
   },
   "file_extension": ".py",
   "mimetype": "text/x-python",
   "name": "python",
   "nbconvert_exporter": "python",
   "pygments_lexer": "ipython3",
   "version": "3.8.8"
  }
 },
 "nbformat": 4,
 "nbformat_minor": 5
}
