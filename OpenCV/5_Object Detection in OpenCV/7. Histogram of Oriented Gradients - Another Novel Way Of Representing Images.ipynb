{
 "cells": [
  {
   "cell_type": "markdown",
   "id": "e5064cf3",
   "metadata": {},
   "source": [
    "HOG - Histogram of Oriented Gradients"
   ]
  },
  {
   "cell_type": "code",
   "execution_count": 11,
   "id": "118a0ac6",
   "metadata": {
    "collapsed": true,
    "scrolled": false
   },
   "outputs": [
    {
     "ename": "error",
     "evalue": "vector<T> too long",
     "output_type": "error",
     "traceback": [
      "\u001b[1;31m---------------------------------------------------------------------------\u001b[0m",
      "\u001b[1;31merror\u001b[0m                                     Traceback (most recent call last)",
      "\u001b[1;32m<ipython-input-11-1736160a1d39>\u001b[0m in \u001b[0;36m<module>\u001b[1;34m\u001b[0m\n\u001b[0;32m     32\u001b[0m \u001b[1;31m# hog_feats now contains gradient amplitudes for each direction\u001b[0m\u001b[1;33m\u001b[0m\u001b[1;33m\u001b[0m\u001b[1;33m\u001b[0m\u001b[0m\n\u001b[0;32m     33\u001b[0m \u001b[1;31m# for each cell of the group. Then indexing by columns\u001b[0m\u001b[1;33m\u001b[0m\u001b[1;33m\u001b[0m\u001b[1;33m\u001b[0m\u001b[0m\n\u001b[1;32m---> 34\u001b[1;33m hog_feats = hog.compute(gray).reshape(n_cells[1] - block_size[1] + 1,\n\u001b[0m\u001b[0;32m     35\u001b[0m                                      \u001b[0mn_cells\u001b[0m\u001b[1;33m[\u001b[0m\u001b[1;36m0\u001b[0m\u001b[1;33m]\u001b[0m \u001b[1;33m-\u001b[0m \u001b[0mblock_size\u001b[0m\u001b[1;33m[\u001b[0m\u001b[1;36m0\u001b[0m\u001b[1;33m]\u001b[0m \u001b[1;33m+\u001b[0m \u001b[1;36m1\u001b[0m\u001b[1;33m,\u001b[0m\u001b[1;33m\u001b[0m\u001b[1;33m\u001b[0m\u001b[0m\n\u001b[0;32m     36\u001b[0m                                       block_size[0], block_size[1], nbins).transpose((1,0,2,3,4))\n",
      "\u001b[1;31merror\u001b[0m: vector<T> too long"
     ]
    }
   ],
   "source": [
    "import numpy as np, cv2 as cv, matplotlib.pyplot as plt\n",
    "\n",
    "# Load and graysclae image\n",
    "image = cv.imread(\"c:/opencv/images/elephant.jpg\")\n",
    "gray = cv.cvtColor(image, cv.COLOR_BGR2GRAY)\n",
    "\n",
    "# display original image\n",
    "cv.imshow(\"Original image\", image)\n",
    "cv.waitKey()\n",
    "\n",
    "# h x w in pixels\n",
    "cell_size = (8,8)\n",
    "\n",
    "# h x w in cells\n",
    "block_size = (2,2)\n",
    "\n",
    "# num of orientation bins\n",
    "nbins = 9\n",
    "\n",
    "# Using openCV's HOG descriptor\n",
    "# winSize is the size of the image cropped to a multiple of the cell size\n",
    "hog = cv.HOGDescriptor(_winSize=(gray.shape[1]//cell_size[1]*cell_size[1], gray.shape[1]//cell_size[1]*cell_size[1]),\n",
    "                       _blockSize=(block_size[1]*cell_size[1], block_size[0]*cell_size[0]),\n",
    "                      _blockStride=(cell_size[1], cell_size[0]),\n",
    "                      _cellSize=(cell_size[1], cell_size[0]),\n",
    "                      _nbins=nbins)\n",
    "\n",
    "# create numpy array shape to create hog_feats\n",
    "n_cells = (gray.shape[0]//cell_size[0], gray.shape[1]//cell_size[1])\n",
    "\n",
    "# index blocks by rows first\n",
    "# hog_feats now contains gradient amplitudes for each direction\n",
    "# for each cell of the group. Then indexing by columns\n",
    "hog_feats = hog.compute(gray).reshape(n_cells[1] - block_size[1] + 1,\n",
    "                                     n_cells[0] - block_size[0] + 1,\n",
    "                                      block_size[0], block_size[1], nbins).transpose((1,0,2,3,4))\n",
    "\n",
    "gradients = np.zeros((n_cells[0], n_cells[1], nbins))\n",
    "\n",
    "cell_count = np.full((n_cells[0], n_cells[1], 1), 0, dtype=int)\n",
    "\n",
    "# block normalisation\n",
    "for y in range(block_size[0]):\n",
    "    for x in range(block_size[1]):\n",
    "        gradients[y:n_cells[0] - block_size[0] + y + 1, x:n_cells[1] - block_size[1] + x + 1] += \\\n",
    "                  hog_feats[:,:y,x,:]\n",
    "        cell_count[y:n_cells[0] - block_size[0] + y + 1, x:n_cells[1] - block_size[1] + x + 1] += 1\n",
    "    \n",
    "# average gradients\n",
    "gradients /= cell_count\n",
    "\n",
    "# plot HOG with matplotlib\n",
    "color_bins = 5\n",
    "plt.pcolor(gradients[:,:color_bins])\n",
    "plt.gca().invert_y_axis()\n",
    "plt.gca().set_aspect(\"equal\", adjustable=\"box\")\n",
    "plt.colorbar()\n",
    "plt.show()\n",
    "cv.destroyAllWindows()\n",
    "                  "
   ]
  }
 ],
 "metadata": {
  "kernelspec": {
   "display_name": "Python 3",
   "language": "python",
   "name": "python3"
  },
  "language_info": {
   "codemirror_mode": {
    "name": "ipython",
    "version": 3
   },
   "file_extension": ".py",
   "mimetype": "text/x-python",
   "name": "python",
   "nbconvert_exporter": "python",
   "pygments_lexer": "ipython3",
   "version": "3.8.8"
  }
 },
 "nbformat": 4,
 "nbformat_minor": 5
}
