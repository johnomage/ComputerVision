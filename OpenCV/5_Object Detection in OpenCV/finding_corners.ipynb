{
 "cells": [
  {
   "cell_type": "code",
   "execution_count": 2,
   "id": "b3c2d1d3",
   "metadata": {},
   "outputs": [],
   "source": [
    "import cv2 as cv, numpy as np\n",
    "\n",
    "#load image\n",
    "image = cv.imread(\"c://opencv/images/chess.jpg\")\n",
    "\n",
    "grey = cv.cvtColor(image, cv.COLOR_BGR2GRAY)\n",
    "\n",
    "# CornerHarris function requires array datatype to be float32\n",
    "gray = np.float32(grey)\n",
    "\n",
    "harris_corner = cv.cornerHarris(grey, 3, 3, .05)\n",
    "\n",
    "# use dilation of the corners to enlarge them\n",
    "kernel = np.ones((7,7), np.int8)\n",
    "harris_corner = cv.dilate(harris_corner, kernel, iterations=2)\n",
    "\n",
    "# threshold for optimal value\n",
    "image[harris_corner > .25 * harris_corner.max()] = [127, 255, 127]\n",
    "\n",
    "cv.imshow(\"Harris Corners\", image)\n",
    "cv.waitKey()\n",
    "cv.destroyAllWindows()\n"
   ]
  },
  {
   "cell_type": "markdown",
   "id": "fdb24b59",
   "metadata": {},
   "source": [
    "# Improving corner Detection using - GOOD FEATURES TO TRACK"
   ]
  },
  {
   "cell_type": "code",
   "execution_count": 8,
   "id": "4f08bb8a",
   "metadata": {},
   "outputs": [
    {
     "ename": "ValueError",
     "evalue": "not enough values to unpack (expected 2, got 1)",
     "output_type": "error",
     "traceback": [
      "\u001b[1;31m---------------------------------------------------------------------------\u001b[0m",
      "\u001b[1;31mValueError\u001b[0m                                Traceback (most recent call last)",
      "\u001b[1;32m<ipython-input-8-329df393470a>\u001b[0m in \u001b[0;36m<module>\u001b[1;34m\u001b[0m\n\u001b[0;32m     10\u001b[0m \u001b[1;33m\u001b[0m\u001b[0m\n\u001b[0;32m     11\u001b[0m \u001b[1;32mfor\u001b[0m \u001b[0mcorner\u001b[0m \u001b[1;32min\u001b[0m \u001b[0mcorners\u001b[0m\u001b[1;33m:\u001b[0m\u001b[1;33m\u001b[0m\u001b[1;33m\u001b[0m\u001b[0m\n\u001b[1;32m---> 12\u001b[1;33m     \u001b[0mx\u001b[0m\u001b[1;33m,\u001b[0m \u001b[0my\u001b[0m \u001b[1;33m=\u001b[0m \u001b[0mcorner\u001b[0m\u001b[1;33m[\u001b[0m\u001b[1;36m0\u001b[0m\u001b[1;33m]\u001b[0m\u001b[1;33m\u001b[0m\u001b[1;33m\u001b[0m\u001b[0m\n\u001b[0m\u001b[0;32m     13\u001b[0m     \u001b[0mx\u001b[0m \u001b[1;33m=\u001b[0m \u001b[0mint\u001b[0m\u001b[1;33m(\u001b[0m\u001b[0mx\u001b[0m\u001b[1;33m)\u001b[0m\u001b[1;33m\u001b[0m\u001b[1;33m\u001b[0m\u001b[0m\n\u001b[0;32m     14\u001b[0m     \u001b[0my\u001b[0m \u001b[1;33m=\u001b[0m \u001b[0mint\u001b[0m\u001b[1;33m(\u001b[0m\u001b[0my\u001b[0m\u001b[1;33m)\u001b[0m\u001b[1;33m\u001b[0m\u001b[1;33m\u001b[0m\u001b[0m\n",
      "\u001b[1;31mValueError\u001b[0m: not enough values to unpack (expected 2, got 1)"
     ]
    }
   ],
   "source": [
    "import cv2 as cv, numpy as np\n",
    "\n",
    "#load image\n",
    "img = cv.imread(\"c://opencv/images/chess.jpg\")\n",
    "\n",
    "gray = cv.cvtColor(img, cv.COLOR_BGR2GRAY)\n",
    "\n",
    "# specify top 50 corners\n",
    "corners = cv.goodFeaturesToTrackWithQuality(gray, 50, .01, 15, mask=None)\n",
    "\n",
    "for corner in corners:\n",
    "    x, y = corner[0]\n",
    "    x = int(x)\n",
    "    y = int(y)\n",
    "    cv.rectangle(img, (x-10, y-10), (x+10, y+10), (0, 255, 0), 2)\n",
    "\n",
    "cv.imshow(\"Corners found\", img)\n",
    "cv.waitKey()\n",
    "cv.destroyAllWindows()"
   ]
  }
 ],
 "metadata": {
  "kernelspec": {
   "display_name": "Python 3",
   "language": "python",
   "name": "python3"
  },
  "language_info": {
   "codemirror_mode": {
    "name": "ipython",
    "version": 3
   },
   "file_extension": ".py",
   "mimetype": "text/x-python",
   "name": "python",
   "nbconvert_exporter": "python",
   "pygments_lexer": "ipython3",
   "version": "3.8.8"
  }
 },
 "nbformat": 4,
 "nbformat_minor": 5
}
