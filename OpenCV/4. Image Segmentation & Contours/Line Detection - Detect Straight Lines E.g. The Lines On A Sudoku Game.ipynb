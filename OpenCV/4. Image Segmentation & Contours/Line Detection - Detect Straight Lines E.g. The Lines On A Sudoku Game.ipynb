{
 "cells": [
  {
   "cell_type": "markdown",
   "id": "65e129be",
   "metadata": {},
   "source": [
    "line: p = xcosA + ysinA\n",
    "\n",
    "    p = perpendicular distance of line from origin\n",
    "    A = angle formed by p at the origin\n",
    "\n",
    "code: cv2.HoughLines(binarized/thresold image, p accuracy, A accuracy, threshold)\n",
    "\n",
    "    threshold: minimum vote for it to be considered a line\n",
    "    \n",
    "code: cv2.HoughLineP(binarized/threshold image, p accuracy, A accuracy, threshold, min line length, max line gap)"
   ]
  },
  {
   "cell_type": "code",
   "execution_count": null,
   "id": "4900d3df",
   "metadata": {},
   "outputs": [],
   "source": []
  },
  {
   "cell_type": "code",
   "execution_count": 5,
   "id": "b42c0b09",
   "metadata": {},
   "outputs": [
    {
     "ename": "SyntaxError",
     "evalue": "invalid syntax (<ipython-input-5-eddf4e6c9e3e>, line 30)",
     "output_type": "error",
     "traceback": [
      "\u001b[1;36m  File \u001b[1;32m\"<ipython-input-5-eddf4e6c9e3e>\"\u001b[1;36m, line \u001b[1;32m30\u001b[0m\n\u001b[1;33m    cv.imshow(\"Hough Lines\", image)\u001b[0m\n\u001b[1;37m    ^\u001b[0m\n\u001b[1;31mSyntaxError\u001b[0m\u001b[1;31m:\u001b[0m invalid syntax\n"
     ]
    }
   ],
   "source": [
    "import numpy as np, cv2 as cv\n",
    "image = cv.imread(\"c://opencv/images/chess.jpg\")\n",
    "\n",
    "\n",
    "\n",
    "# grayscale image and extract canny edges\n",
    "gray = cv.cvtColor(image, cv.COLOR_BGR2GRAY)\n",
    "edges = cv.Canny(gray, 100, 170, apertureSize=3)\n",
    "\n",
    "# Run HoughLines using a rho accuracy of 1 pixel\n",
    "# theta accuracy of 1 degree = np.pi/180\n",
    "# Line threshold is st to 240 (=no of points on the line)\n",
    "\n",
    "lines = cv.HoughLines(edges, 1, np.pi/180, 250)\n",
    "\n",
    "# iterate through each line and convert to the format required by cv.lines (requiring end points)\n",
    "try:\n",
    "    for line in range(lines.size):\n",
    "        for rho, theta in lines[line]:\n",
    "            a = np.cos(theta)\n",
    "            b = np.sin(theta)\n",
    "            x0 = a * rho\n",
    "            y0 = b * rho\n",
    "            x1 = int(x0 + 1000 * -b)\n",
    "            y1 = int(y0 + 1000 * a)\n",
    "            x2 = int(x0 - 1000 * -b)\n",
    "            y2 = int(y0 - 1000 * a)\n",
    "            cv.line(image, (x1,y1), (x2,y2), (0,0,255), 3)\n",
    "\n",
    "cv.imshow(\"Hough Lines\", image)\n",
    "cv.waitKey()\n",
    "cv.destroyAllWindows()\n",
    "print(lines.size)"
   ]
  },
  {
   "cell_type": "code",
   "execution_count": null,
   "id": "6bf51033",
   "metadata": {},
   "outputs": [],
   "source": []
  },
  {
   "cell_type": "markdown",
   "id": "7bc9a28e",
   "metadata": {},
   "source": [
    ".\n",
    ".\n",
    ".\n",
    "\n",
    "Probabilistic Hough Lines"
   ]
  },
  {
   "cell_type": "code",
   "execution_count": 3,
   "id": "068c8e3e",
   "metadata": {},
   "outputs": [
    {
     "ename": "NameError",
     "evalue": "name 'cv' is not defined",
     "output_type": "error",
     "traceback": [
      "\u001b[1;31m---------------------------------------------------------------------------\u001b[0m",
      "\u001b[1;31mNameError\u001b[0m                                 Traceback (most recent call last)",
      "\u001b[1;32m<ipython-input-3-ecb710d849a2>\u001b[0m in \u001b[0;36m<module>\u001b[1;34m\u001b[0m\n\u001b[0;32m      3\u001b[0m \u001b[1;31m# and max gap between lines of 10 pixels. This authomatically generates endpoints of line: x1,y1,x2,y2\u001b[0m\u001b[1;33m\u001b[0m\u001b[1;33m\u001b[0m\u001b[1;33m\u001b[0m\u001b[0m\n\u001b[0;32m      4\u001b[0m \u001b[1;33m\u001b[0m\u001b[0m\n\u001b[1;32m----> 5\u001b[1;33m \u001b[0mimage\u001b[0m \u001b[1;33m=\u001b[0m \u001b[0mcv\u001b[0m\u001b[1;33m.\u001b[0m\u001b[0mimread\u001b[0m\u001b[1;33m(\u001b[0m\u001b[1;34m\"c://opencv/images/chess.jpg\"\u001b[0m\u001b[1;33m)\u001b[0m\u001b[1;33m\u001b[0m\u001b[1;33m\u001b[0m\u001b[0m\n\u001b[0m\u001b[0;32m      6\u001b[0m \u001b[1;31m# grayscale image and extract canny edges\u001b[0m\u001b[1;33m\u001b[0m\u001b[1;33m\u001b[0m\u001b[1;33m\u001b[0m\u001b[0m\n\u001b[0;32m      7\u001b[0m \u001b[0mgray\u001b[0m \u001b[1;33m=\u001b[0m \u001b[0mcv\u001b[0m\u001b[1;33m.\u001b[0m\u001b[0mcvtColor\u001b[0m\u001b[1;33m(\u001b[0m\u001b[0mimage\u001b[0m\u001b[1;33m,\u001b[0m \u001b[0mcv\u001b[0m\u001b[1;33m.\u001b[0m\u001b[0mCOLOR_BGR2GRAY\u001b[0m\u001b[1;33m)\u001b[0m\u001b[1;33m\u001b[0m\u001b[1;33m\u001b[0m\u001b[0m\n",
      "\u001b[1;31mNameError\u001b[0m: name 'cv' is not defined"
     ]
    }
   ],
   "source": [
    "# code: cv2.HoughLineP(binarized/threshold image, p accuracy, A accuracy, threshold, min line length, max line gap)\n",
    "# with same parameters above, add min vote (=points along line) of 100 and 5 pixels min line length\n",
    "# and max gap between lines of 10 pixels. This authomatically generates endpoints of line: x1,y1,x2,y2\n",
    "\n",
    "image = cv.imread(\"c://opencv/images/chess.jpg\")\n",
    "# grayscale image and extract canny edges\n",
    "gray = cv.cvtColor(image, cv.COLOR_BGR2GRAY)\n",
    "edges = cv.Canny(gray, 100, 170, apertureSize=3)\n",
    "\n",
    "lines = cv.HoughLinesP(edges, 1, np.pi/180, 240, 5, 10)\n",
    "\n",
    "try:\n",
    "    for line in range(int(lines.size)):\n",
    "        for x1, y1, x2, y2 in lines[line]:\n",
    "            cv.line(image, (x1,y1), (x2,y2), (0,0,255), 3)\n",
    "        \n",
    "except IndexError:\n",
    "    pass\n",
    "\n",
    "cv.imshow(\"Probabilistic Hough Lines\", image)\n",
    "cv.waitKey(0)\n",
    "cv.destroyAllWindows()"
   ]
  },
  {
   "cell_type": "code",
   "execution_count": null,
   "id": "4529fcb0",
   "metadata": {},
   "outputs": [],
   "source": []
  }
 ],
 "metadata": {
  "kernelspec": {
   "display_name": "Python 3",
   "language": "python",
   "name": "python3"
  },
  "language_info": {
   "codemirror_mode": {
    "name": "ipython",
    "version": 3
   },
   "file_extension": ".py",
   "mimetype": "text/x-python",
   "name": "python",
   "nbconvert_exporter": "python",
   "pygments_lexer": "ipython3",
   "version": "3.8.8"
  }
 },
 "nbformat": 4,
 "nbformat_minor": 5
}
