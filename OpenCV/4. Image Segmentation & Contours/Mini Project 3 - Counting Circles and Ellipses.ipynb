{
 "cells": [
  {
   "cell_type": "code",
   "execution_count": 1,
   "id": "4a390c94",
   "metadata": {},
   "outputs": [],
   "source": [
    "import numpy as np, cv2 as cv"
   ]
  },
  {
   "cell_type": "code",
   "execution_count": 2,
   "id": "48e4593e",
   "metadata": {},
   "outputs": [],
   "source": [
    "image = cv.imread(\"c://opencv/images/blobs.jpg\")\n",
    "cv.imshow(\"Original\", image)\n",
    "cv.waitKey()\n",
    "\n",
    "# initialize detector using default parameters\n",
    "detector = cv.SimpleBlobDetector_create()\n",
    "\n",
    "# detect blobs\n",
    "keypoints = detector.detect(image)\n",
    "\n",
    "# draw blobs on image as red circles\n",
    "blank = np.zeros((1,1))\n",
    "blobs = cv.drawKeypoints(image, keypoints, blank, (0,0,255), cv.DRAW_MATCHES_FLAGS_DRAW_RICH_KEYPOINTS)\n",
    "text = \"Total number of blobs = \" + str(len(keypoints))\n",
    "cv.putText(blobs, text, (20,550), cv.FONT_HERSHEY_COMPLEX, 1, (100,0,255), 2)\n",
    "\n",
    "# display\n",
    "cv.imshow(\"Blobs with default parameters\", blobs)\n",
    "cv.waitKey()\n",
    "\n",
    "\n",
    "# set detector with filtering parameters\n",
    "parameters = cv.SimpleBlobDetector_Params()\n",
    "\n",
    "# set area filtering parameters\n",
    "parameters.filterByArea = True\n",
    "parameters.minArea = 100\n",
    "\n",
    "# set circularity filtering parameter\n",
    "parameters.filterByCircularity = True\n",
    "parameters.minCircularity = .9\n",
    "\n",
    "# set convexity filtering parameter\n",
    "parameters.filterByConvexity = False\n",
    "parameters.minConvexity = .2\n",
    "\n",
    "# set initia filtering parameters\n",
    "parameters.filterByInertia = True\n",
    "parameters.minInertiaRatio = .01\n",
    "\n",
    "# create detector with parameters\n",
    "detector = cv.SimpleBlobDetector_create(parameters)\n",
    "\n",
    "# detect blobs\n",
    "keypoints = detector.detect(image)\n",
    "\n",
    "# draw blobs on image as red circles\n",
    "blank = np.zeros((1,1))\n",
    "blobs = cv.drawKeypoints(image, keypoints, blank, (0,0,255), cv.DRAW_MATCHES_FLAGS_DRAW_RICH_KEYPOINTS)\n",
    "text = \"Total number of blobs = \" + str(len(keypoints))\n",
    "cv.putText(blobs, text, (20,550), cv.FONT_HERSHEY_COMPLEX, 1, (100,0,255), 2)\n",
    "\n",
    "\n",
    "\n",
    "cv.destroyAllWindows()"
   ]
  },
  {
   "cell_type": "code",
   "execution_count": null,
   "id": "41472062",
   "metadata": {},
   "outputs": [],
   "source": []
  }
 ],
 "metadata": {
  "kernelspec": {
   "display_name": "Python 3",
   "language": "python",
   "name": "python3"
  },
  "language_info": {
   "codemirror_mode": {
    "name": "ipython",
    "version": 3
   },
   "file_extension": ".py",
   "mimetype": "text/x-python",
   "name": "python",
   "nbconvert_exporter": "python",
   "pygments_lexer": "ipython3",
   "version": "3.8.8"
  }
 },
 "nbformat": 4,
 "nbformat_minor": 5
}
