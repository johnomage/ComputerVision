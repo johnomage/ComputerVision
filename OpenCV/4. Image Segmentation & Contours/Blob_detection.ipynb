{
 "cells": [
  {
   "cell_type": "markdown",
   "id": "778d9f47",
   "metadata": {},
   "source": [
    "Blob = a group of connected pixels that share a common property\n",
    "\n",
    "create detector >> input image >> obtain keypoint >> draw keypoint\n",
    "\n"
   ]
  },
  {
   "cell_type": "code",
   "execution_count": 1,
   "id": "a6cdb247",
   "metadata": {},
   "outputs": [],
   "source": [
    "import numpy as np, cv2 as cv"
   ]
  },
  {
   "cell_type": "code",
   "execution_count": 2,
   "id": "7edb53c1",
   "metadata": {},
   "outputs": [],
   "source": [
    "image = cv.imread(\"C://opencv/images/Sunflowers.jpg\", cv.IMREAD_GRAYSCALE)\n",
    "cv.imshow(\"Original\", image)\n",
    "cv.waitKey()\n",
    "\n",
    "# set up detector with default parameters\n",
    "detector = cv.SimpleBlobDetector_create()\n",
    "\n",
    "# detect blobs\n",
    "keypoints = detector.detect(image)\n",
    "\n",
    "# draw detected blobs as red circles.\n",
    "# draw matches flag and draw rich keypoints ensures the size\n",
    "# of the circle corresponds to the size of the blob\n",
    "\n",
    "blank = np.zeros((1, 1))\n",
    "blobs = cv.drawKeypoints(image, keypoints, blank, (0,0,255), cv.DRAW_MATCHES_FLAGS_DRAW_RICH_KEYPOINTS)\n",
    "\n",
    "# show keypoints\n",
    "cv.imshow(\"Blobs\", blobs)\n",
    "cv.waitKey()\n",
    "cv.destroyAllWindows()\n"
   ]
  },
  {
   "cell_type": "code",
   "execution_count": 15,
   "id": "03cf101f",
   "metadata": {},
   "outputs": [
    {
     "data": {
      "text/plain": [
       "array([[0, 0, 0],\n",
       "       [0, 0, 0]])"
      ]
     },
     "execution_count": 15,
     "metadata": {},
     "output_type": "execute_result"
    }
   ],
   "source": [
    "np.zeros((2,3), \"int\")"
   ]
  },
  {
   "cell_type": "code",
   "execution_count": null,
   "id": "ed81e4d8",
   "metadata": {},
   "outputs": [],
   "source": []
  }
 ],
 "metadata": {
  "kernelspec": {
   "display_name": "Python 3",
   "language": "python",
   "name": "python3"
  },
  "language_info": {
   "codemirror_mode": {
    "name": "ipython",
    "version": 3
   },
   "file_extension": ".py",
   "mimetype": "text/x-python",
   "name": "python",
   "nbconvert_exporter": "python",
   "pygments_lexer": "ipython3",
   "version": "3.8.8"
  }
 },
 "nbformat": 4,
 "nbformat_minor": 5
}
