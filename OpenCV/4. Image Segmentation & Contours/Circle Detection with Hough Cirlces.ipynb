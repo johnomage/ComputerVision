{
 "cells": [
  {
   "cell_type": "markdown",
   "id": "7e5913f4",
   "metadata": {},
   "source": [
    "# Circle detection using HoughCircle\n",
    "cv2.HoughCircles(image, method, dp, MinDist, param1, param2, minRadius, MaxRadius)\n",
    "\n",
    "    Method - currently only cv2.HOUGH_GRADIENT available\n",
    "    dp - Inverse ratio of accumulator resolution\n",
    "    MinDist - the minimum distance between the center of detected circles\n",
    "    param1 - Gradient value used in the edge detection\n",
    "    param2 - Accumulator threshold for the HOUGH_GRADIENT method, lower allows more circles to be detected (false positives)\n",
    "    minRadius - limits the smallest circle to this size (via radius)\n",
    "    MaxRadius - similarly sets the limit for the largest circles\n",
    "\n",
    "\n",
    "\n",
    "\n"
   ]
  },
  {
   "cell_type": "code",
   "execution_count": 79,
   "id": "bbb2b891",
   "metadata": {},
   "outputs": [],
   "source": [
    "import numpy as np, cv2 as cv\n",
    "image = cv.imread(\"c://opencv/images/bottlecaps.jpg\")\n",
    "cv.imshow(\"Original Image\", image)\n",
    "cv.waitKey()\n",
    "\n",
    "gray = cv.cvtColor(image, cv.COLOR_BGR2GRAY)\n",
    "\n",
    "blur = cv.medianBlur(gray, 5)\n",
    "\n",
    "circles = cv.HoughCircles(blur, cv.HOUGH_GRADIENT, 1.5, 10)\n",
    "# circles = (tuple(tuple(map(int, tup)) for tup in circles)\n",
    "# print(circles)\n",
    "\n",
    "try:\n",
    "    for circle in range(circles.size):\n",
    "        for i in circles[circle]:\n",
    "            # draw the outer circle\n",
    "            center = image.shape[:2] #(i[0], i[1])\n",
    "            radius = int(i[2])\n",
    "            cv.circle(image, center, radius, (255, 0, 0), 2)\n",
    "\n",
    "           # draw the center of the circle\n",
    "            cv.circle(image, center, 2, (0, 255, 0), 5)\n",
    "\n",
    "\n",
    "except IndexError:\n",
    "    pass\n",
    "#     print(i)\n",
    "\n",
    "# except:\n",
    "#     print(\"error\")\n",
    "\n",
    "cv.imshow('detected circles', image)\n",
    "cv.waitKey(0)\n",
    "cv.destroyAllWindows()"
   ]
  },
  {
   "cell_type": "code",
   "execution_count": null,
   "id": "56f90b43",
   "metadata": {},
   "outputs": [],
   "source": []
  }
 ],
 "metadata": {
  "kernelspec": {
   "display_name": "Python 3",
   "language": "python",
   "name": "python3"
  },
  "language_info": {
   "codemirror_mode": {
    "name": "ipython",
    "version": 3
   },
   "file_extension": ".py",
   "mimetype": "text/x-python",
   "name": "python",
   "nbconvert_exporter": "python",
   "pygments_lexer": "ipython3",
   "version": "3.8.8"
  }
 },
 "nbformat": 4,
 "nbformat_minor": 5
}
