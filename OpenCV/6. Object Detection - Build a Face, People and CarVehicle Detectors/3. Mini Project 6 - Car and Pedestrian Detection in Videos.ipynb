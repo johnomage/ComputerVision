{
 "cells": [
  {
   "cell_type": "markdown",
   "id": "76452285",
   "metadata": {},
   "source": [
    "Pedestrian Detection"
   ]
  },
  {
   "cell_type": "code",
   "execution_count": 1,
   "id": "a096fca5",
   "metadata": {},
   "outputs": [
    {
     "name": "stdout",
     "output_type": "stream",
     "text": [
      "c:\\Users\\abume\\anaconda3\\python.exe\n"
     ]
    }
   ],
   "source": [
    "import sys, cv2 as cv, numpy as np, random as rand, time\n",
    "print(sys.executable)"
   ]
  },
  {
   "cell_type": "code",
   "execution_count": 4,
   "id": "a1b70284",
   "metadata": {},
   "outputs": [],
   "source": [
    "body_classifier = cv.CascadeClassifier(\"c:/opencv/repo/haarcascade_fullbody.xml\")\n",
    "\n",
    "cap = cv.VideoCapture(\"c:/opencv/images/walking.avi\")\n",
    "\n",
    "while cap.isOpened:\n",
    "    ret, frame = cap.read()\n",
    "    frame = cv.resize(frame, None, fx=.5, fy=.5, interpolation=cv.INTER_LANCZOS4)\n",
    "    \n",
    "    gray = cv.cvtColor(frame, cv.COLOR_BGR2GRAY)\n",
    "    \n",
    "    bodies = body_classifier.detectMultiScale(gray, 1.2, 5)\n",
    "    \n",
    "    for (x,y,w,h) in bodies:\n",
    "        color = rand.randint(0,256),rand.randint(0,256),rand.randint(0,256)\n",
    "        cv.rectangle(frame, (x,y), (x+w,y+h), color, 2)\n",
    "        cv.imshow(\"Trekkers\", frame)\n",
    "    \n",
    "    if cv.waitKey(1) == 13: # enter key\n",
    "        break\n",
    "        \n",
    "cap.release()\n",
    "cv.destroyAllWindows()"
   ]
  },
  {
   "cell_type": "code",
   "execution_count": 3,
   "id": "4ec7fc2a",
   "metadata": {},
   "outputs": [],
   "source": [
    "cv.destroyAllWindows()"
   ]
  },
  {
   "cell_type": "markdown",
   "id": "6cf6cf78",
   "metadata": {},
   "source": [
    "CAR DETECTION"
   ]
  },
  {
   "cell_type": "code",
   "execution_count": null,
   "id": "d5c52207",
   "metadata": {},
   "outputs": [],
   "source": [
    "car_classifier = cv.CascadeClassifier(\"c:/opencv/repo/haarcascade_cars.xml\")\n",
    "\n",
    "cap = cv.VideoCapture(\"c:/opencv/images/cars.avi\")\n",
    "\n",
    "while True:\n",
    "    time.sleep(.01)\n",
    "    ret, frame = cap.read()\n",
    "#     frame = cv.resize(frame, None, fx=.5, fy=.5, interpolation=cv.INTER_LINEAR)\n",
    "    \n",
    "    gray = cv.cvtColor(frame, cv.COLOR_BGR2GRAY)\n",
    "    \n",
    "    cars = car_classifier.detectMultiScale(gray, 1.2, 5)\n",
    "    \n",
    "    for (x,y,w,h) in cars:\n",
    "        color = rand.randint(0,256),rand.randint(0,256),rand.randint(0,256)\n",
    "        cv.rectangle(frame, (x,y), (x+w,y+h), color, 2)\n",
    "        cv.imshow(\"Detect Cars\", frame)\n",
    "    \n",
    "    if cv.waitKey(1) == 13:\n",
    "        break\n",
    "        \n",
    "cap.release()\n",
    "cv.destroyAllWindows()"
   ]
  },
  {
   "cell_type": "code",
   "execution_count": 10,
   "id": "8702593c",
   "metadata": {},
   "outputs": [],
   "source": [
    "cap = cv.VideoCapture(\"c:/opencv/images/walking.avi\")\n",
    "body_class = cv.CascadeClassifier(\"c:/opencv/repo/haarcascade_fullbody.xml\")\n",
    "\n",
    "while True:\n",
    "#     gray = cv.cvtColor()\n",
    "    ret, frame = cap.read()\n",
    "    \n",
    "    bodys = body_class.detectMultiScale(cv.cvtColor(frame, cv.COLOR_BGR2GRAY), 1.5, 2)\n",
    "    \n",
    "    for (x,y,w,h) in bodys:\n",
    "        color = rand.randint(0,256),rand.randint(0,256),rand.randint(0,256)\n",
    "        cv.rectangle(frame, (x,y), (x+w,y+h), color, 2)\n",
    "        cv.imshow(\"New Body moving\", frame)\n",
    "    \n",
    "    if cv.waitKey(1) == 13:\n",
    "        break\n",
    "\n",
    "cap.release()\n",
    "cv.destroyAllWindows()\n"
   ]
  }
 ],
 "metadata": {
  "kernelspec": {
   "display_name": "base",
   "language": "python",
   "name": "python3"
  },
  "language_info": {
   "codemirror_mode": {
    "name": "ipython",
    "version": 3
   },
   "file_extension": ".py",
   "mimetype": "text/x-python",
   "name": "python",
   "nbconvert_exporter": "python",
   "pygments_lexer": "ipython3",
   "version": "3.9.13"
  },
  "vscode": {
   "interpreter": {
    "hash": "689b61601e556818ef8556fab8f9fa73db23d2ad423044f56fc759b769a9cee5"
   }
  }
 },
 "nbformat": 4,
 "nbformat_minor": 5
}
