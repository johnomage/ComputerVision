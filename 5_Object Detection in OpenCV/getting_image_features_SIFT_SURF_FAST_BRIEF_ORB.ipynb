{
 "cells": [
  {
   "cell_type": "markdown",
   "id": "64853d3f",
   "metadata": {},
   "source": [
    "# \n",
    "SIFT - Scale Invariant Feature Transform.\n",
    "\n",
    "    Deals with scale invariant issue in image detection. It is patented. No longer freely available with openCV above 2.0\n",
    "    Uses Difference of Gaussian Approach\n",
    "    Effective but computationally expensive\n",
    "\n",
    "SURF = Speeded Up Robust Features\n",
    "\n",
    "    Developed to improve scale invariant feature detector\n",
    "    Uses Hessian Matrix to detect interesting points and Haar Wavelet responses for orientation assignment\n",
    "    \n",
    "FAST = Features From Accelerated Segment Test\n",
    "\n",
    "    Keypoint detection only\n",
    "    Used in  real time applications\n",
    "    \n",
    "BRIEF = Binary Robust Independent Elementary Feature\n",
    "\n",
    "    Computes descriptors quickly\n",
    "    Fast\n",
    "    \n",
    "ORB = Oriented FAST and Rotated BRIEF\n",
    "\n",
    "    Combines FAST and BRIEF\n",
    "    Not patented, free to use\n"
   ]
  },
  {
   "cell_type": "markdown",
   "id": "5187b543",
   "metadata": {},
   "source": [
    "Using these features in OpenCV\n",
    "\n",
    "    Create detector >> Import Image into detector >> Obtain keypoints >> draw keypoints"
   ]
  },
  {
   "cell_type": "markdown",
   "id": "56ebcdcb",
   "metadata": {},
   "source": [
    "<!-- SIFT --> SIFT"
   ]
  },
  {
   "cell_type": "code",
   "execution_count": 1,
   "id": "94da126d",
   "metadata": {},
   "outputs": [
    {
     "name": "stdout",
     "output_type": "stream",
     "text": [
      "Number of keypoints detected: 3425\n"
     ]
    }
   ],
   "source": [
    "\n",
    "import cv2 as cv, numpy as np\n",
    "image = cv.imread(\"c:/opencv/images/input2by2.jpg\")\n",
    "gray = cv.cvtColor(image, cv.COLOR_BGR2GRAY)\n",
    "\n",
    "# scale image\n",
    "# image = cv.resize(image, None, fx=2, fy=2, interpolation=cv.INTER_CUBIC)\n",
    "\n",
    "# initialize SIFT feature detector\n",
    "sift = cv.SIFT_create()\n",
    "\n",
    "# detect keypoints. These are x-, y-coordinates\n",
    "keypoints = sift.detect(gray, None) \n",
    "# img2 = cv2.drawKeypoints(img, kp, outImage = None, color=(255,0,0))\n",
    "print(\"Number of keypoints detected:\", len(keypoints))\n",
    "\n",
    "# Draw rich keypoints on input image\n",
    "image = cv.drawKeypoints(image, keypoints, outImage = None, flags=cv.DRAW_MATCHES_FLAGS_DRAW_RICH_KEYPOINTS)\n",
    "\n",
    "cv.imshow(\"Feature Method - SIFT\", image)\n",
    "cv.waitKey()\n",
    "cv.destroyAllWindows()"
   ]
  },
  {
   "cell_type": "markdown",
   "id": "7bd10e89",
   "metadata": {},
   "source": [
    "SURF"
   ]
  },
  {
   "cell_type": "code",
   "execution_count": 2,
   "id": "d25abcbf",
   "metadata": {},
   "outputs": [
    {
     "ename": "error",
     "evalue": "Unknown C++ exception from OpenCV code",
     "output_type": "error",
     "traceback": [
      "\u001b[1;31m---------------------------------------------------------------------------\u001b[0m",
      "\u001b[1;31merror\u001b[0m                                     Traceback (most recent call last)",
      "\u001b[1;32m<ipython-input-2-87b27863d272>\u001b[0m in \u001b[0;36m<module>\u001b[1;34m\u001b[0m\n\u001b[0;32m      9\u001b[0m \u001b[1;31m# only features which hessian are larger than hessianThreshold are retained by the detector\u001b[0m\u001b[1;33m\u001b[0m\u001b[1;33m\u001b[0m\u001b[1;33m\u001b[0m\u001b[0m\n\u001b[0;32m     10\u001b[0m \u001b[1;31m# surf.setHessianThreshold(700)\u001b[0m\u001b[1;33m\u001b[0m\u001b[1;33m\u001b[0m\u001b[1;33m\u001b[0m\u001b[0m\n\u001b[1;32m---> 11\u001b[1;33m \u001b[0mkeypoints\u001b[0m\u001b[1;33m,\u001b[0m \u001b[0mdescriptors\u001b[0m \u001b[1;33m=\u001b[0m \u001b[0msurf\u001b[0m\u001b[1;33m.\u001b[0m\u001b[0mdetectAndCompute\u001b[0m\u001b[1;33m(\u001b[0m\u001b[0mgray\u001b[0m\u001b[1;33m,\u001b[0m \u001b[1;32mNone\u001b[0m\u001b[1;33m)\u001b[0m\u001b[1;33m\u001b[0m\u001b[1;33m\u001b[0m\u001b[0m\n\u001b[0m\u001b[0;32m     12\u001b[0m \u001b[0mprint\u001b[0m\u001b[1;33m(\u001b[0m\u001b[1;34m\"Number of keypoints detected:\"\u001b[0m\u001b[1;33m,\u001b[0m \u001b[0mlen\u001b[0m\u001b[1;33m(\u001b[0m\u001b[0mkeypoints\u001b[0m\u001b[1;33m)\u001b[0m\u001b[1;33m)\u001b[0m\u001b[1;33m\u001b[0m\u001b[1;33m\u001b[0m\u001b[0m\n\u001b[0;32m     13\u001b[0m \u001b[1;33m\u001b[0m\u001b[0m\n",
      "\u001b[1;31merror\u001b[0m: Unknown C++ exception from OpenCV code"
     ]
    }
   ],
   "source": [
    "\n",
    "import cv2 as cv, numpy as np\n",
    "image = cv.imread(\"c:/opencv/images/input.jpg\")\n",
    "gray = cv.cvtColor(image, cv.COLOR_BGR2GRAY)\n",
    "\n",
    "# initialize SIFT feature detector\n",
    "# surf = cv.xfeatures2d.SURF_create(7500)\n",
    "surf = cv.xfeatures2d_SURF()\n",
    "\n",
    "# only features which hessian are larger than hessianThreshold are retained by the detector\n",
    "# surf.setHessianThreshold(700)\n",
    "keypoints, descriptors = surf.detectAndCompute(gray, None)\n",
    "print(\"Number of keypoints detected:\", len(keypoints))\n",
    "\n",
    "# Draw rich keypoints on image"
   ]
  },
  {
   "cell_type": "markdown",
   "id": "ba14efbc",
   "metadata": {},
   "source": [
    "FAST"
   ]
  },
  {
   "cell_type": "code",
   "execution_count": null,
   "id": "49ec703d",
   "metadata": {},
   "outputs": [],
   "source": [
    "import cv2 as cv, numpy as np\n",
    "image = cv.imread(\"c:/opencv/images/input.jpg\")\n",
    "gray = cv.cvtColor(image, cv.COLOR_BGR2GRAY)\n",
    "\n",
    "# create a fast detector object\n",
    "fast = cv.FastFeatureDetector_create()\n",
    "\n",
    "keypoints = fast.detect(gray, None)\n",
    "print(\"Points Detected:\", len(keypoints))\n",
    "\n",
    "# draw keypoints\n",
    "image = cv.drawKeypoints(image, keypoints, outImage=None, flags=cv.DRAW_MATCHES_FLAGS_DRAW_RICH_KEYPOINTS)\n",
    "\n",
    "cv.imshow(\"Feature Method - FAST\", image)\n",
    "cv.waitKey()\n",
    "cv.destroyAllWindows()"
   ]
  },
  {
   "cell_type": "markdown",
   "id": "0ae24f60",
   "metadata": {},
   "source": [
    "BRIEF"
   ]
  },
  {
   "cell_type": "code",
   "execution_count": null,
   "id": "bfa9b6d2",
   "metadata": {},
   "outputs": [],
   "source": [
    "import cv2 as cv, numpy as np\n",
    "image = cv.imread(\"c:/opencv/images/input.jpg\")\n",
    "gray = cv.cvtColor(image, cv.COLOR_BGR2GRAY)\n",
    "\n",
    "# create a fast detector object\n",
    "fast = cv.FastFeatureDetector_create()\n",
    "\n",
    "# create brief extractor object\n",
    "brief = cv.DescriptorMatcher_create(\"BRIEF\")\n",
    "\n",
    "# cal keypoints\n",
    "keypoints = fast.detect(gray, None)\n",
    "print(\"Points Detected:\", len(keypoints))\n",
    "\n",
    "# obtain descriptors and new final keyponits with BRIEF\n",
    "keypoints, descriptors = brief.compute(gray, keypoints)\n",
    "\n",
    "print(\"New Points Detected:\", len(keypoints))"
   ]
  },
  {
   "cell_type": "markdown",
   "id": "724590b6",
   "metadata": {},
   "source": [
    "ORB = Oreinted FAST and Roatated BRIEF"
   ]
  },
  {
   "cell_type": "code",
   "execution_count": null,
   "id": "bbcd76f2",
   "metadata": {},
   "outputs": [],
   "source": [
    "def orb():\n",
    "    import cv2 as cv, numpy as np\n",
    "    image = cv.imread(\"c:/opencv/images/input.jpg\")\n",
    "    gray = cv.cvtColor(image, cv.COLOR_BGR2GRAY)\n",
    "\n",
    "    # create an ORb object, set number of points. Default is 500\n",
    "    orb = cv.ORB_create(1000)\n",
    "\n",
    "    keypoints = orb.detect(gray, None)\n",
    "    print(\"Points Detected:\", len(keypoints))\n",
    "\n",
    "    keypoints, descriptors = orb.compute(gray, keypoints)\n",
    "    print(\"New Points Detected:\", len(keypoints))\n",
    "\n",
    "    # draw righ points\n",
    "    image = cv.drawKeypoints(image, keypoints, outImage=None, flags=cv.DRAW_MATCHES_FLAGS_DRAW_RICH_KEYPOINTS)\n",
    "\n",
    "    cv.imshow(\"Feature Method - ORB\", image)\n",
    "    cv.waitKey()\n",
    "    cv.destroyAllWindows()"
   ]
  },
  {
   "cell_type": "code",
   "execution_count": null,
   "id": "f96a5fe8",
   "metadata": {},
   "outputs": [],
   "source": [
    "orb()"
   ]
  }
 ],
 "metadata": {
  "kernelspec": {
   "display_name": "Python 3",
   "language": "python",
   "name": "python3"
  },
  "language_info": {
   "codemirror_mode": {
    "name": "ipython",
    "version": 3
   },
   "file_extension": ".py",
   "mimetype": "text/x-python",
   "name": "python",
   "nbconvert_exporter": "python",
   "pygments_lexer": "ipython3",
   "version": "3.8.8"
  }
 },
 "nbformat": 4,
 "nbformat_minor": 5
}
