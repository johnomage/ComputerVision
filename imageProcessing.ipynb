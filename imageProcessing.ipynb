{
 "cells": [
  {
   "cell_type": "markdown",
   "id": "9f8f1a94",
   "metadata": {},
   "source": [
    "IMAGE TRANSLATION"
   ]
  },
  {
   "cell_type": "code",
   "execution_count": 2,
   "id": "56e317e4",
   "metadata": {},
   "outputs": [],
   "source": [
    "import cv2\n",
    "import numpy as np\n",
    "\n",
    "#load image\n",
    "image = cv2.imread(\"C:/opencv/images/input.jpg\")\n",
    "\n",
    "#get image height and width\n",
    "height, width = image.shape[:2]\n",
    "qheight, qwidth = height/4, width/4\n",
    "\n",
    "#Translation matrix\n",
    "# T = |1 0 Tx|\n",
    "#     |0 1 Ty|\n",
    "\n",
    "T = np.float32([[1, 0, qwidth], [0, 1, qheight]])\n",
    "\n",
    "#Use warpAffine to translate image using matrix T\n",
    "\n",
    "img_translation = cv2.warpAffine(image, T, (width, height))\n",
    "cv2.imshow(\"Translated Image\", img_translation)\n",
    "\n",
    "cv2.waitKey()\n",
    "cv2.destroyAllWindows()"
   ]
  },
  {
   "cell_type": "markdown",
   "id": "a15dd656",
   "metadata": {},
   "source": [
    "\n",
    "IMAGE ROTATION"
   ]
  },
  {
   "cell_type": "code",
   "execution_count": 29,
   "id": "b6b04d14",
   "metadata": {},
   "outputs": [],
   "source": [
    "import cv2\n",
    "import numpy as np\n",
    "\n",
    "r_image = cv2.imread(\"C:/opencv/images/chess.jpg\")\n",
    "height, width = image.shape[:2]\n",
    "# qheight, qwidth = height/4, width/4\n",
    "\n",
    "rotation_matrix = cv2.getRotationMatrix2D((width/2, height/2), 30, 1)\n",
    "\n",
    "rotated_image = cv2.warpAffine(r_image, rotation_matrix, (width, height))\n",
    "\n",
    "cv2.imshow(\"Image Rotation\", rotated_image)\n",
    "cv2.waitKey()\n",
    "cv2.destroyAllWindows()"
   ]
  },
  {
   "cell_type": "markdown",
   "id": "f1b9ad72",
   "metadata": {},
   "source": [
    "TRANSPOSING IMAGE"
   ]
  },
  {
   "cell_type": "code",
   "execution_count": 26,
   "id": "6312ef70",
   "metadata": {},
   "outputs": [],
   "source": [
    "import cv2\n",
    "import numpy as np\n",
    "\n",
    "r_image = cv2.imread(\"C:/opencv/images/chess.jpg\")\n",
    "height, width = image.shape[:2]\n",
    "# qheight, qwidth = height/4, width/4\n",
    "\n",
    "rotation_matrix = cv2.getRotationMatrix2D((width/2, height/2), 90, 1)\n",
    "\n",
    "rotated_image = cv2.warpAffine(image, rotation_matrix, (width, height))\n",
    "\n",
    "transpose = cv2.transpose(image)\n",
    "\n",
    "cv2.imshow(\"Image Rotation\", transpose)\n",
    "cv2.waitKey()\n",
    "cv2.destroyAllWindows()"
   ]
  },
  {
   "cell_type": "markdown",
   "id": "bff2467c",
   "metadata": {},
   "source": [
    "SCALING, RESIZING AND INTERPOLATION"
   ]
  },
  {
   "cell_type": "markdown",
   "id": "4a1ac90d",
   "metadata": {},
   "source": [
    "cv2.resize(image, dsize(output image size), x-scale, y-scale, interpolation"
   ]
  },
  {
   "cell_type": "code",
   "execution_count": 5,
   "id": "1653a216",
   "metadata": {},
   "outputs": [],
   "source": [
    "import cv2\n",
    "\n",
    "scaled_image = cv2.resize(image, None, fx=.75, fy=.75)\n",
    "cv2.imshow(\"Linear Interpolation\",scaled_image)\n",
    "cv2.waitKey()\n",
    "\n",
    "cubic_scaled_image = cv2.resize(image, None, fx=2, fy=2, interpolation=cv2.INTER_CUBIC)\n",
    "cv2.imshow(\"Cubic Interpolation\",cubic_scaled_image)\n",
    "cv2.waitKey()\n",
    "\n",
    "cubic_scaled_image = cv2.resize(image, (900, 400), fx=3, fy=3, interpolation=cv2.INTER_CUBIC)\n",
    "cv2.imshow(\"Scewed\",cubic_scaled_image)\n",
    "cv2.waitKey()\n",
    "\n",
    "lanc_scaled_image = cv2.resize(image, None, fx=2, fy=2, interpolation=cv2.INTER_LANCZOS4)\n",
    "cv2.imshow(\"LANCSO4 Scaling\",lanc_scaled_image)\n",
    "cv2.waitKey()\n",
    "\n",
    "cv2.destroyAllWindows()"
   ]
  },
  {
   "cell_type": "code",
   "execution_count": null,
   "id": "fe234968",
   "metadata": {},
   "outputs": [],
   "source": []
  }
 ],
 "metadata": {
  "kernelspec": {
   "display_name": "Python 3",
   "language": "python",
   "name": "python3"
  },
  "language_info": {
   "codemirror_mode": {
    "name": "ipython",
    "version": 3
   },
   "file_extension": ".py",
   "mimetype": "text/x-python",
   "name": "python",
   "nbconvert_exporter": "python",
   "pygments_lexer": "ipython3",
   "version": "3.8.8"
  }
 },
 "nbformat": 4,
 "nbformat_minor": 5
}
