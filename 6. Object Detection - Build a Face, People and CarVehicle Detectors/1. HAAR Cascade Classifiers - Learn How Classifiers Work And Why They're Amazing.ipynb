{
 "cells": [
  {
   "cell_type": "markdown",
   "id": "605988b8",
   "metadata": {},
   "source": [
    "Face and Eye detection using HAAR Classifiers\n"
   ]
  },
  {
   "cell_type": "code",
   "execution_count": 6,
   "id": "6e0d98c0",
   "metadata": {},
   "outputs": [],
   "source": [
    "def factorial(n):\n",
    "    if n < 2:\n",
    "        return 1\n",
    "    return n * factorial(n-1)\n",
    "    \n",
    "\n",
    "    n(n-1)(n-1)(n-3)"
   ]
  },
  {
   "cell_type": "code",
   "execution_count": 8,
   "id": "2ea153ed",
   "metadata": {},
   "outputs": [
    {
     "data": {
      "text/plain": [
       "120"
      ]
     },
     "execution_count": 8,
     "metadata": {},
     "output_type": "execute_result"
    }
   ],
   "source": [
    "factorial(5)"
   ]
  },
  {
   "cell_type": "code",
   "execution_count": 12,
   "id": "873e7640",
   "metadata": {},
   "outputs": [
    {
     "name": "stdout",
     "output_type": "stream",
     "text": [
      "120\n"
     ]
    },
    {
     "ename": "",
     "evalue": "",
     "output_type": "error",
     "traceback": [
      "\u001b[1;31mThe Kernel crashed while executing code in the the current cell or a previous cell. Please review the code in the cell(s) to identify a possible cause of the failure. Click <a href='https://aka.ms/vscodeJupyterKernelCrash'>here</a> for more info. View Jupyter <a href='command:jupyter.viewOutput'>log</a> for further details."
     ]
    }
   ],
   "source": [
    "result = 1\n",
    "for i in range(1,5+1):\n",
    "    result = result * i\n",
    "print(result)"
   ]
  },
  {
   "cell_type": "code",
   "execution_count": 1,
   "id": "81acbd75",
   "metadata": {},
   "outputs": [
    {
     "name": "stderr",
     "output_type": "stream",
     "text": [
      "C:\\Users\\abume\\AppData\\Local\\Temp\\ipykernel_96040\\966666753.py:10: DeprecationWarning: elementwise comparison failed; this will raise an error in the future.\n",
      "  if faces == ():\n"
     ]
    }
   ],
   "source": [
    "import numpy as np, cv2 as cv\n",
    "\n",
    "face_classifier = cv.CascadeClassifier(\"c:/opencv/repo/haarcascade_frontalface_default.xml\")\n",
    "\n",
    "image = cv.imread(\"c:/opencv/images/kim.jpg\")\n",
    "gray = cv.cvtColor(image, cv.COLOR_BGR2GRAY)\n",
    "\n",
    "faces = face_classifier.detectMultiScale(gray, 1.2, 5)\n",
    "\n",
    "if faces == ():\n",
    "    print(\"No face detected\")\n",
    "\n",
    "for (x,y,w,h) in faces:\n",
    "    cv.rectangle(image, (x,y), (x+w,y+h), (127,0,255), 1)\n",
    "    cv.putText(image, \"Smile detected {}\".format((x,y)), (w//2,h//2), cv.FONT_HERSHEY_COMPLEX, .5, (0,255,0), 1)\n",
    "    cv.imshow(\"HAAR Face Detection\", image)\n",
    "    cv.waitKey()\n",
    "cv.destroyAllWindows()"
   ]
  },
  {
   "cell_type": "markdown",
   "id": "59cfdd31",
   "metadata": {},
   "source": [
    "FACE and Eye\n"
   ]
  },
  {
   "cell_type": "code",
   "execution_count": 3,
   "id": "71e70076",
   "metadata": {},
   "outputs": [
    {
     "name": "stderr",
     "output_type": "stream",
     "text": [
      "C:\\Users\\abume\\AppData\\Local\\Temp\\ipykernel_96040\\3029044127.py:13: DeprecationWarning: elementwise comparison failed; this will raise an error in the future.\n",
      "  if faces == ():\n"
     ]
    }
   ],
   "source": [
    "import numpy as np, cv2 as cv, random as rand\n",
    "\n",
    "image = cv.imread(\"c:/opencv/images/kim.jpg\")\n",
    "gray = cv.cvtColor(image, cv.COLOR_BGR2GRAY)\n",
    "\n",
    "face_class = cv.CascadeClassifier(\"c:/opencv/repo/haarcascade_frontalface_default.xml\")\n",
    "eye_class = cv.CascadeClassifier(\"c:/opencv/repo/haarcascade_eye.xml\")\n",
    "\n",
    "faces = face_class.detectMultiScale(gray, 1.3, 5)\n",
    "\n",
    "color = rand.randint(0,256),rand.randint(0,256),rand.randint(0,256)\n",
    "\n",
    "if faces == ():\n",
    "    print(\"No face detected\")\n",
    "    \n",
    "for (x,y,w,h) in faces:\n",
    "    cv.imshow(\"Original\", image)\n",
    "    cv.rectangle(image, (x,y), (x+w,y+h), color, 1)\n",
    "#     cv.imshow(\"HAAR Face Detection\", image)\n",
    "    cv.waitKey()\n",
    "    \n",
    "    #detect eyes\n",
    "    roi_gray = gray[y:y+h, x:x+w]\n",
    "    roi_color = image[y:y+h, x:x+w]\n",
    "    \n",
    "    eyes = eye_class.detectMultiScale(roi_gray)\n",
    "    \n",
    "    for (ex,ey,ew,eh) in eyes:\n",
    "        cv.rectangle(roi_color, (ex,ey), (ex+ew,ey+eh), color, 1)\n",
    "        cv.imshow(\"HAAR Eye Detection\", image)\n",
    "        cv.waitKey()\n",
    "        \n",
    "cv.destroyAllWindows()"
   ]
  },
  {
   "cell_type": "markdown",
   "id": "98f3de7c",
   "metadata": {},
   "source": [
    "LIVE Face Detect"
   ]
  },
  {
   "cell_type": "code",
   "execution_count": 4,
   "id": "c604e399",
   "metadata": {},
   "outputs": [
    {
     "ename": "KeyboardInterrupt",
     "evalue": "",
     "output_type": "error",
     "traceback": [
      "\u001b[1;31m---------------------------------------------------------------------------\u001b[0m",
      "\u001b[1;31mKeyboardInterrupt\u001b[0m                         Traceback (most recent call last)",
      "Cell \u001b[1;32mIn[4], line 35\u001b[0m\n\u001b[0;32m     32\u001b[0m cap \u001b[39m=\u001b[39m cv\u001b[39m.\u001b[39mVideoCapture(\u001b[39m0\u001b[39m)\n\u001b[0;32m     34\u001b[0m \u001b[39mwhile\u001b[39;00m \u001b[39mTrue\u001b[39;00m:\n\u001b[1;32m---> 35\u001b[0m     ret, frame \u001b[39m=\u001b[39m cap\u001b[39m.\u001b[39;49mread()\n\u001b[0;32m     36\u001b[0m \u001b[39m#     print(ret)\u001b[39;00m\n\u001b[0;32m     37\u001b[0m     cv\u001b[39m.\u001b[39mimshow(\u001b[39m\"\u001b[39m\u001b[39mFace Detect\u001b[39m\u001b[39m\"\u001b[39m, detect_face(frame))\n",
      "\u001b[1;31mKeyboardInterrupt\u001b[0m: "
     ]
    }
   ],
   "source": [
    "import cv2 as cv, numpy as np, random as rand\n",
    "\n",
    "face_class = cv.CascadeClassifier(\"c:/opencv/repo/haarcascade_frontalface_default.xml\")\n",
    "eye_class = cv.CascadeClassifier(\"c:/opencv/repo/haarcascade_eye.xml\")\n",
    "\n",
    "def detect_face(image, size=.5):\n",
    "    color = rand.randint(0,256),rand.randint(0,256),rand.randint(0,256)\n",
    "    gray = cv.cvtColor(image, cv.COLOR_BGR2GRAY)\n",
    "    face_class = cv.CascadeClassifier(\"c:/opencv/repo/haarcascade_frontalface_default.xml\")\n",
    "    eye_class = cv.CascadeClassifier(\"c:/opencv/repo/haarcascade_eye.xml\")\n",
    "    \n",
    "    faces = face_class.detectMultiScale(gray, 1.3, 5)\n",
    "    \n",
    "    if faces == ():\n",
    "        return image\n",
    "    \n",
    "    for (x,y,w,h) in faces:\n",
    "        x,w,y,h = x-50, w+50, y-50, h+50\n",
    "        cv.rectangle(image, (x,y), (x+w, y+h), color, 2)\n",
    "        \n",
    "        roi_gray = gray[y:y+h, x:x+w]\n",
    "        roi_color = image[y:y+h, x:x+w]\n",
    "\n",
    "        eyes = eye_class.detectMultiScale(roi_gray)\n",
    "\n",
    "        for (ex,ey,ew,eh) in eyes:\n",
    "            cv.rectangle(roi_color, (ex,ey), (ex+ew,ey+eh), color, 1)\n",
    "        \n",
    "    roi_color = cv.flip(roi_color, 1)\n",
    "    return roi_color\n",
    "\n",
    "cap = cv.VideoCapture(0)\n",
    "\n",
    "while True:\n",
    "    ret, frame = cap.read()\n",
    "#     print(ret)\n",
    "    cv.imshow(\"Face Detect\", detect_face(frame))\n",
    "    if cv.waitKey(1) == 13: # Enter key\n",
    "        break\n",
    "\n",
    "cv.destroyAllWindows()"
   ]
  }
 ],
 "metadata": {
  "kernelspec": {
   "display_name": "base",
   "language": "python",
   "name": "python3"
  },
  "language_info": {
   "codemirror_mode": {
    "name": "ipython",
    "version": 3
   },
   "file_extension": ".py",
   "mimetype": "text/x-python",
   "name": "python",
   "nbconvert_exporter": "python",
   "pygments_lexer": "ipython3",
   "version": "3.9.13"
  },
  "vscode": {
   "interpreter": {
    "hash": "689b61601e556818ef8556fab8f9fa73db23d2ad423044f56fc759b769a9cee5"
   }
  }
 },
 "nbformat": 4,
 "nbformat_minor": 5
}
