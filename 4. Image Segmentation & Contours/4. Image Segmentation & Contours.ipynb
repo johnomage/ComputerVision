{
 "cells": [
  {
   "cell_type": "markdown",
   "id": "e775d6ec",
   "metadata": {},
   "source": [
    "IMAGE SEGMENTATION = PARTITION IMAGES INTO DIFFERENT REGIONS"
   ]
  },
  {
   "cell_type": "markdown",
   "id": "c28af850",
   "metadata": {},
   "source": [
    "<!--  -->"
   ]
  },
  {
   "cell_type": "markdown",
   "id": "89c0b815",
   "metadata": {},
   "source": [
    "Contours\n",
    "\n",
    "Hierarchy in Contours:\n",
    "\n",
    "    1. cv2.RETR_LIST - retrieves all contours (inner and outer)\n",
    "    2. cv2.RETR_EXTERNAL - retrieves only external contours\n",
    "    3. cv2.RETR_COMP - retrieves all in a 2 level heirarchy\n",
    "    4. cv2.RETR_TREE - retrieves all in full hierarchy\n",
    "    \n",
    "Hierarchy is stored in the following format: [Next, Previous, Child, Parent]"
   ]
  },
  {
   "cell_type": "code",
   "execution_count": 68,
   "id": "2995e933",
   "metadata": {},
   "outputs": [],
   "source": [
    "import cv2 as cv, numpy as np\n",
    "\n",
    "# Load images\n",
    "shape_image = cv.imread(\"C://opencv/images/shapes.jpg\")\n",
    "donut_shape_image = cv.imread(\"C://opencv/images/shapes_donut.jpg\")\n",
    "bunchof_shapes = cv.imread(\"C://opencv/images/bunchofshapes.jpg\")\n",
    "house_image = cv.imread(\"c://opencv/images/house.jpg\")\n",
    "hand_image = cv.imread(\"c://opencv/images/hand.jpg\")"
   ]
  },
  {
   "cell_type": "code",
   "execution_count": 102,
   "id": "7b2b461f",
   "metadata": {},
   "outputs": [
    {
     "name": "stdout",
     "output_type": "stream",
     "text": [
      "Number of contours: 3\n"
     ]
    }
   ],
   "source": [
    "cv.imshow(\"Original\", shape_image)\n",
    "cv.waitKey()\n",
    "\n",
    "grey = cv.cvtColor(shape_image, cv.COLOR_BGR2GRAY)\n",
    "\n",
    "# Find Canny edges\n",
    "edge = cv.Canny(grey, 30, 200)\n",
    "cv.imshow(\"Canny edges\", edge)\n",
    "cv.waitKey()\n",
    "\n",
    "# get contours\n",
    "# since findContours modifies the image, make a copy edge.copy()\n",
    "edge_copy = edge.copy()\n",
    "\n",
    "contours, heirarchy = cv.findContours(edge_copy, cv.RETR_EXTERNAL, cv.CHAIN_APPROX_SIMPLE)\n",
    "cv.imshow(\"Contours edges\", edge_copy)\n",
    "cv.waitKey()\n",
    "# print(contours)\n",
    "print(\"Number of contours: {}\".format(len(contours)))\n",
    "\n",
    "# draw contours. Use -1 as 3rd parameter to draw all\n",
    "cv.drawContours(shape_image, contours, -1, (0,255,0), 3)\n",
    "cv.imshow(\"Contours\", shape_image)\n",
    "cv.waitKey()\n",
    "\n",
    "cv.destroyAllWindows()"
   ]
  },
  {
   "cell_type": "markdown",
   "id": "7c988c9f",
   "metadata": {},
   "source": [
    "<!--  -->"
   ]
  },
  {
   "cell_type": "markdown",
   "id": "de4fdc0c",
   "metadata": {},
   "source": [
    "SORTING CONTOURS"
   ]
  },
  {
   "cell_type": "markdown",
   "id": "fd61421c",
   "metadata": {},
   "source": [
    "Useful in image processing\n",
    "\n",
    "Sorting by area: assists in object recognition (using contour area):\n",
    "\n",
    "    * Eliminates small contours that may be noise\n",
    "    * Extract largest contours\n",
    " \n",
    "Sorting by spacial position (Using contour centroid)\n",
    "\n",
    "    * Sort charcters left to right\n",
    "    * Process image in a specific order"
   ]
  },
  {
   "cell_type": "code",
   "execution_count": 3,
   "id": "1d139c4b",
   "metadata": {},
   "outputs": [
    {
     "name": "stdout",
     "output_type": "stream",
     "text": [
      "Number of contours found: 4\n"
     ]
    }
   ],
   "source": [
    "cv.imshow(\"Original image\", bunchof_shapes)\n",
    "cv.waitKey()\n",
    "\n",
    "# create a black image with the same dimension as our loaded image\n",
    "blank_bunchof_shapes = np.zeros((bunchof_shapes.shape[0], bunchof_shapes.shape[1], 3))\n",
    "\n",
    "# create a copy of original image\n",
    "copy_bunchof_shapes = bunchof_shapes\n",
    "\n",
    "#grayscale image\n",
    "gray_bunchof_shapes = cv.cvtColor(bunchof_shapes, cv.COLOR_BGR2GRAY)\n",
    "\n",
    "# Find canny edges\n",
    "edgesof_gray = cv.Canny(gray_bunchof_shapes, 50 ,200)\n",
    "cv.imshow(\"1 - Canny edges\", edgesof_gray)\n",
    "cv.waitKey(0)\n",
    "\n",
    "# Find contours and print how many found\n",
    "contours, hierarchy = cv.findContours(edgesof_gray.copy(), cv.RETR_EXTERNAL, cv.CHAIN_APPROX_NONE)\n",
    "print(\"Number of contours found: {}\".format(len(contours)))\n",
    "\n",
    "# Draw all contours\n",
    "cv.drawContours(bunchof_shapes, contours, -1, (0,255,0), 3)\n",
    "cv.imshow(\"Contours on original\", bunchof_shapes)\n",
    "cv.waitKey()\n",
    "\n",
    "# Contours over blank image\n",
    "cv.drawContours(blank_bunchof_shapes, contours, -1, (0,255,0), 3)\n",
    "cv.imshow(\"Contours on black\", blank_bunchof_shapes)\n",
    "cv.waitKey()\n",
    "\n",
    "cv.destroyAllWindows()"
   ]
  },
  {
   "cell_type": "markdown",
   "id": "2ba357ed",
   "metadata": {},
   "source": [
    "<b>SORT by Area</b>"
   ]
  },
  {
   "cell_type": "code",
   "execution_count": 4,
   "id": "c2e542c2",
   "metadata": {},
   "outputs": [
    {
     "name": "stdout",
     "output_type": "stream",
     "text": [
      "Areas of contours before sorting: [20587.5, 22901.5, 66579.5, 90222.0]\n",
      "Areas of contours after sorting: [90222.0, 66579.5, 22901.5, 20587.5]\n"
     ]
    }
   ],
   "source": [
    "# function to display area\n",
    "def get_contour_area(contours):\n",
    "    all_areas = []\n",
    "    for contour in contours:\n",
    "        all_areas.append(cv.contourArea(contour))\n",
    "    return all_areas\n",
    "\n",
    "# Load image\n",
    "image_of_shapes = cv.imread(\"C://opencv/images/bunchofshapes.jpg\")\n",
    "cv.imshow(\"Original shapes\", image_of_shapes)\n",
    "moded_image = image_of_shapes\n",
    "cv.waitKey()\n",
    "\n",
    "print(\"Areas of contours before sorting: {}\".format(get_contour_area(contours)))\n",
    "\n",
    "# Sort contours large to small\n",
    "sorted_contours = sorted(contours, key=cv.contourArea, reverse=True)\n",
    "\n",
    "print(\"Areas of contours after sorting: {}\".format(get_contour_area(sorted_contours)))\n",
    "\n",
    "# Iterate over contours and draw onw at a time\n",
    "for c in sorted_contours:\n",
    "    cv.drawContours(moded_image, [c], -1, (255,0,0), 3)\n",
    "    cv.waitKey(0)\n",
    "    cv.imshow(\"Contours by area\", moded_image)\n",
    "\n",
    "cv.waitKey(0)\n",
    "cv.destroyAllWindows()"
   ]
  },
  {
   "cell_type": "markdown",
   "id": "6a4d4a79",
   "metadata": {},
   "source": [
    "|\n",
    "|\n",
    "|\n",
    "\n",
    "Sorting Contours From Left to Right"
   ]
  },
  {
   "cell_type": "code",
   "execution_count": 60,
   "id": "12a12106",
   "metadata": {},
   "outputs": [
    {
     "ename": "ZeroDivisionError",
     "evalue": "float division by zero",
     "output_type": "error",
     "traceback": [
      "\u001b[1;31m---------------------------------------------------------------------------\u001b[0m",
      "\u001b[1;31mZeroDivisionError\u001b[0m                         Traceback (most recent call last)",
      "\u001b[1;32m<ipython-input-60-81cfc774f6bb>\u001b[0m in \u001b[0;36m<module>\u001b[1;34m\u001b[0m\n\u001b[0;32m     18\u001b[0m \u001b[1;31m# computer center of mass or centroid and draw them on our image\u001b[0m\u001b[1;33m\u001b[0m\u001b[1;33m\u001b[0m\u001b[1;33m\u001b[0m\u001b[0m\n\u001b[0;32m     19\u001b[0m \u001b[1;32mfor\u001b[0m \u001b[0mi\u001b[0m\u001b[1;33m,\u001b[0m\u001b[0mc\u001b[0m \u001b[1;32min\u001b[0m \u001b[0menumerate\u001b[0m\u001b[1;33m(\u001b[0m\u001b[0mcontours\u001b[0m\u001b[1;33m)\u001b[0m\u001b[1;33m:\u001b[0m\u001b[1;33m\u001b[0m\u001b[1;33m\u001b[0m\u001b[0m\n\u001b[1;32m---> 20\u001b[1;33m     \u001b[0morig\u001b[0m \u001b[1;33m=\u001b[0m \u001b[0mlabel_contour_center\u001b[0m\u001b[1;33m(\u001b[0m\u001b[0mimage_of_shapes\u001b[0m\u001b[1;33m,\u001b[0m \u001b[0mc\u001b[0m\u001b[1;33m,\u001b[0m \u001b[0mi\u001b[0m\u001b[1;33m)\u001b[0m\u001b[1;33m\u001b[0m\u001b[1;33m\u001b[0m\u001b[0m\n\u001b[0m\u001b[0;32m     21\u001b[0m \u001b[1;33m\u001b[0m\u001b[0m\n\u001b[0;32m     22\u001b[0m \u001b[0mcv\u001b[0m\u001b[1;33m.\u001b[0m\u001b[0mimshow\u001b[0m\u001b[1;33m(\u001b[0m\u001b[1;34m\"Contour Centers\"\u001b[0m\u001b[1;33m,\u001b[0m \u001b[0mimage_of_shapes\u001b[0m\u001b[1;33m)\u001b[0m\u001b[1;33m\u001b[0m\u001b[1;33m\u001b[0m\u001b[0m\n",
      "\u001b[1;32m<ipython-input-60-81cfc774f6bb>\u001b[0m in \u001b[0;36mlabel_contour_center\u001b[1;34m(image, c, i)\u001b[0m\n\u001b[0;32m      8\u001b[0m \u001b[1;31m#   place a red circle in contour centre\u001b[0m\u001b[1;33m\u001b[0m\u001b[1;33m\u001b[0m\u001b[1;33m\u001b[0m\u001b[0m\n\u001b[0;32m      9\u001b[0m     \u001b[0mM\u001b[0m \u001b[1;33m=\u001b[0m \u001b[0mcv\u001b[0m\u001b[1;33m.\u001b[0m\u001b[0mmoments\u001b[0m\u001b[1;33m(\u001b[0m\u001b[0mc\u001b[0m\u001b[1;33m)\u001b[0m\u001b[1;33m\u001b[0m\u001b[1;33m\u001b[0m\u001b[0m\n\u001b[1;32m---> 10\u001b[1;33m     \u001b[0mcx\u001b[0m \u001b[1;33m=\u001b[0m \u001b[0mint\u001b[0m\u001b[1;33m(\u001b[0m\u001b[0mM\u001b[0m\u001b[1;33m[\u001b[0m\u001b[1;34m\"m10\"\u001b[0m\u001b[1;33m]\u001b[0m\u001b[1;33m/\u001b[0m\u001b[0mM\u001b[0m\u001b[1;33m[\u001b[0m\u001b[1;34m\"m00\"\u001b[0m\u001b[1;33m]\u001b[0m\u001b[1;33m)\u001b[0m\u001b[1;33m\u001b[0m\u001b[1;33m\u001b[0m\u001b[0m\n\u001b[0m\u001b[0;32m     11\u001b[0m     \u001b[0mcy\u001b[0m \u001b[1;33m=\u001b[0m \u001b[0mint\u001b[0m\u001b[1;33m(\u001b[0m\u001b[0mM\u001b[0m\u001b[1;33m[\u001b[0m\u001b[1;34m\"m01\"\u001b[0m\u001b[1;33m]\u001b[0m\u001b[1;33m/\u001b[0m\u001b[0mM\u001b[0m\u001b[1;33m[\u001b[0m\u001b[1;34m\"m00\"\u001b[0m\u001b[1;33m]\u001b[0m\u001b[1;33m)\u001b[0m\u001b[1;33m\u001b[0m\u001b[1;33m\u001b[0m\u001b[0m\n\u001b[0;32m     12\u001b[0m     \u001b[1;31m#draw contour on image head\u001b[0m\u001b[1;33m\u001b[0m\u001b[1;33m\u001b[0m\u001b[1;33m\u001b[0m\u001b[0m\n",
      "\u001b[1;31mZeroDivisionError\u001b[0m: float division by zero"
     ]
    }
   ],
   "source": [
    "\n",
    "\n",
    "# Function to sort by position\n",
    "def x_cord_contour(contours):\n",
    "    if cv.contourArea(contours) > 0:\n",
    "        M = cv.moments(contours)\n",
    "        return (int(M[\"m10\"]/M[\"m00\"]))\n",
    "\n",
    "def label_contour_center(image, c, i):\n",
    "#   place a red circle in contour centre\n",
    "    M = cv.moments(c)\n",
    "    cx = int(M[\"m10\"]/M[\"m00\"])\n",
    "    cy = int(M[\"m01\"]/M[\"m00\"])\n",
    "    #draw contour on image head\n",
    "    cv.circle(image, (cx,cy), 10, (0,0,255), -1)\n",
    "    return image\n",
    "\n",
    "original_image = image_of_shapes.copy()\n",
    "\n",
    "# computer center of mass or centroid and draw them on our image\n",
    "for i,c in enumerate(contours):\n",
    "    orig = label_contour_center(image_of_shapes, c, i)\n",
    "\n",
    "cv.imshow(\"Contour Centers\", image_of_shapes)\n",
    "cv.waitKey()\n",
    "\n",
    "# Contours left-to-right sorting using x_cord_contour func\n",
    "contour_left_right = sorted(contours, key=x_cord_contour, reverse=False)\n",
    "\n",
    "# Label contours left_right\n",
    "for i,c in enumerate(contour_left_right):\n",
    "    cv.drawContours(original_image, [c], -1, (0,0,255), 3)\n",
    "    M = cv.moments(c)\n",
    "    cx = int(M[\"m10\"]/M[\"m00\"])\n",
    "    cy = int(M[\"m01\"]/M[\"m00\"])\n",
    "    cv.putText(original_image, str(i+1), (cx,cy), cv.FONT_HERSHEY_COMPLEX, 1, (0,255,0), 2)\n",
    "    cv.imshow(\"Left to Right Contour\", original_image)\n",
    "    cv.waitKey(0)\n",
    "    (x, y, h, w) = cv.boundingRect(c)\n",
    "    \n",
    "    #Crop contours and save images\n",
    "    cropped_contour = original_image[y:y + h, x:x + w]\n",
    "    image_name = \"output_shape_number_\" + str(i+1) + \".jpg\"\n",
    "    print(image_name)\n",
    "    cv.imwrite(image_name, cropped_contour)\n",
    "\n",
    "cv.destroyAllWindows()"
   ]
  },
  {
   "cell_type": "markdown",
   "id": "5597427d",
   "metadata": {},
   "source": [
    "<!--  -->"
   ]
  },
  {
   "cell_type": "markdown",
   "id": "4865f6b6",
   "metadata": {},
   "source": [
    "\n",
    "Approximating Contours and Convex Hall\n",
    "\n",
    "cv2.approxPolyDP(contour, Approximation Accuracy, Closed)\n",
    "\n",
    "    1. contour = contour we wish to approximate\n",
    "    2. Approximation accuracy = accuracy of approx. Small value is better. usually < 5% of contour perimeter\n",
    "    3. closed = boolean value to state open or closed approx. contour"
   ]
  },
  {
   "cell_type": "code",
   "execution_count": 31,
   "id": "bd39cd31",
   "metadata": {},
   "outputs": [],
   "source": [
    "orig_image = house_image.copy()\n",
    "cv.imshow(\"Original Image\", orig_image)\n",
    "cv.waitKey(0)\n",
    "\n",
    "# grayscale and binarize\n",
    "gray = cv.cvtColor(house_image, cv.COLOR_BGR2GRAY)\n",
    "ret, thresh = cv.threshold(gray, 127, 255, cv.THRESH_BINARY_INV)\n",
    "\n",
    "# find contours\n",
    "contours, hierarchy = cv.findContours(thresh.copy(), cv.RETR_LIST, cv.CHAIN_APPROX_NONE)\n",
    "\n",
    "# iterate through each contour and compute bounding rectangle\n",
    "for c in contours:\n",
    "    x,y,w,h = cv.boundingRect(c)\n",
    "    cv.rectangle(orig_image, (x,y), (x+w, y+h), (0,0,255), 0)\n",
    "    cv.imshow(\"Bounding Rectangle\", orig_image)\n",
    "\n",
    "cv.waitKey(0)\n",
    "\n",
    "# iterate through each contour and find approximate contour\n",
    "for c in contours:\n",
    "    #calculate accuracy as a % of the contour perimeter\n",
    "    accuracy = .03 * cv.arcLength(c, True)\n",
    "    approx = cv.approxPolyDP(c, accuracy, True)\n",
    "    cv.drawContours(house_image, [approx], 0, (0,0,255), 2)\n",
    "    cv.imshow(\"Approx Poly DP\", house_image)\n",
    "\n",
    "cv.waitKey(0)\n",
    "\n",
    "cv.destroyAllWindows()"
   ]
  },
  {
   "cell_type": "markdown",
   "id": "e4603f59",
   "metadata": {},
   "source": [
    "# "
   ]
  },
  {
   "cell_type": "markdown",
   "id": "c331bab9",
   "metadata": {},
   "source": [
    "<b>CONVEX HALL</b>"
   ]
  },
  {
   "cell_type": "code",
   "execution_count": 95,
   "id": "5c935939",
   "metadata": {},
   "outputs": [],
   "source": [
    "hand_image = cv.imread(\"c://opencv/images/hand.jpg\")\n",
    "gray = cv.cvtColor(hand_image, cv.COLOR_BGR2GRAY)\n",
    "cv.imshow(\"Original Image\", hand_image)\n",
    "cv.waitKey(0)\n",
    "\n",
    "# threashold the image\n",
    "ret, thresh = cv.threshold(gray, 176, 255, 0)\n",
    "\n",
    "# find contours\n",
    "contours, heirarchy = cv.findContours(thresh.copy(), cv.RETR_LIST, cv.CHAIN_APPROX_NONE)\n",
    "\n",
    "# sort contours by area nad remove the largestframe contour\n",
    "n = len(contours) - 1 #or n = len(contours)\n",
    "contours = sorted(contours, key=cv.contourArea, reverse=False)[:n]\n",
    "\n",
    "# iterate through contours and draw the convex hall\n",
    "for c in contours:\n",
    "    hall = cv.convexHull(c)\n",
    "    cv.drawContours(hand_image, [hall], 0, (20,255,25), 2)\n",
    "    cv.imshow(\"Convex Hall\", hand_image)\n",
    "\n",
    "cv.waitKey(0)\n",
    "\n",
    "cv.destroyAllWindows()"
   ]
  },
  {
   "cell_type": "code",
   "execution_count": 72,
   "id": "095d9e08",
   "metadata": {},
   "outputs": [],
   "source": [
    "values = [2,4,5,1,13,87,34,9,0,3]"
   ]
  },
  {
   "cell_type": "code",
   "execution_count": 57,
   "id": "d9af4279",
   "metadata": {},
   "outputs": [
    {
     "data": {
      "text/plain": [
       "34"
      ]
     },
     "execution_count": 57,
     "metadata": {},
     "output_type": "execute_result"
    }
   ],
   "source": [
    "nval = sorted(values)\n",
    "values[6]"
   ]
  },
  {
   "cell_type": "markdown",
   "id": "27012f5f",
   "metadata": {},
   "source": [
    "\n",
    "<b>MATCHNING CONTOURS WITH SHAPES</b>\n",
    "\n",
    "Match shapes with images even when distorted"
   ]
  },
  {
   "cell_type": "markdown",
   "id": "c3c87d47",
   "metadata": {},
   "source": [
    "<b>Shape Matching</b>\n",
    "\n",
    "cv2.matchShapes(contour template, contour, method, method parameter)\n",
    "\n",
    "    . contour template = ref contour we trying to find in new image\n",
    "    . contour = individual contour we are checking against\n",
    "    . method = type of contour matching (1,2,3)\n",
    "    . method parameter = leave as 0.0 (not fully utilised in Python openCV)"
   ]
  },
  {
   "cell_type": "code",
   "execution_count": 126,
   "id": "83c1d9b9",
   "metadata": {
    "scrolled": true
   },
   "outputs": [
    {
     "name": "stdout",
     "output_type": "stream",
     "text": [
      "0.16818605122199104\n",
      "0.19946910256158912\n",
      "0.18949760627309664\n",
      "0.11101058276281539\n",
      "(363, 1, 2)\n"
     ]
    }
   ],
   "source": [
    "template = cv.imread(\"c://opencv/images/4star.jpg\", 0)\n",
    "cv.imshow(\"Original Image\", template)\n",
    "cv.waitKey(0)\n",
    "\n",
    "target = cv.imread(\"c://opencv/images/shapestomatch.jpg\")\n",
    "gray_target = cv.cvtColor(target, cv.COLOR_BGR2GRAY)\n",
    "\n",
    "# threshold both images before finding contours\n",
    "ret, thresh1 = cv.threshold(template, 127, 255, 0)\n",
    "ret, thresh2 = cv.threshold(gray_target, 127, 255, 0)\n",
    "\n",
    "# now find contours in template\n",
    "contours, heirarchy = cv.findContours(thresh1, cv.RETR_CCOMP, cv.CHAIN_APPROX_SIMPLE)\n",
    "\n",
    "# Now sort contours by area so as to remove largest(bounding windows frame)\n",
    "sorted_contours = sorted(contours, key=cv.contourArea, reverse=True)\n",
    "\n",
    "# extract second largest contour = template contour\n",
    "template_contour = sorted_contours[1]\n",
    "\n",
    "# extract contours from second target image\n",
    "contours, heirarchy = cv.findContours(thresh2, cv.RETR_CCOMP, cv.CHAIN_APPROX_SIMPLE)\n",
    "\n",
    "for c in contours:\n",
    "    # iterate thru each contour in the target image\n",
    "    # use cv.matchShapes to compare contour shapes\n",
    "    match = cv.matchShapes(template_contour, c, 1, 0.0)\n",
    "    print(match)\n",
    "    if match < .15:\n",
    "        closest_contour = c\n",
    "        print(closest_contour.shape)\n",
    "        \n",
    "    else:\n",
    "        closest_contour = []\n",
    "    \n",
    "cv.drawContours(target, [closest_contour], -1, (0, 255, 0), 3)\n",
    "cv.imshow(\"Output\", target)\n",
    "cv.waitKey()\n",
    "\n",
    "cv.destroyAllWindows()"
   ]
  },
  {
   "cell_type": "code",
   "execution_count": 111,
   "id": "a4e0e830",
   "metadata": {},
   "outputs": [],
   "source": [
    "cv.destroyAllWindows()"
   ]
  },
  {
   "cell_type": "markdown",
   "id": "9fd7283f",
   "metadata": {},
   "source": [
    "    |                |\n",
    "    |                |\n",
    "    |                |\n",
    "    |                |\n",
    "    V                V\n",
    "    \n",
    " \n",
    " \n",
    "Mini Project:\n",
    "\n",
    "http://localhost:8888/notebooks/PythonClass/CompVis%20with%20OpenCV/4.%20Image%20Segmentation%20%26%20Contours/Mini%20Project%202%20-%20Identify%20shapes%20(Square%2C%20Rectangle%2C%20Circle%2C%20Traingle%2C%20Star).ipynb"
   ]
  }
 ],
 "metadata": {
  "kernelspec": {
   "display_name": "Python 3",
   "language": "python",
   "name": "python3"
  },
  "language_info": {
   "codemirror_mode": {
    "name": "ipython",
    "version": 3
   },
   "file_extension": ".py",
   "mimetype": "text/x-python",
   "name": "python",
   "nbconvert_exporter": "python",
   "pygments_lexer": "ipython3",
   "version": "3.8.8"
  }
 },
 "nbformat": 4,
 "nbformat_minor": 5
}
