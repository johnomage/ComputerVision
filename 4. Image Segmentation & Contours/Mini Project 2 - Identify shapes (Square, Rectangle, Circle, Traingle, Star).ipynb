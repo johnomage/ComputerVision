{
 "cells": [
  {
   "cell_type": "code",
   "execution_count": 6,
   "id": "9e52bc97",
   "metadata": {},
   "outputs": [],
   "source": [
    "import numpy as np, cv2 as cv\n",
    "\n",
    "\n",
    "def draw_label_shape(shape_name, cnt, b,g,r):\n",
    "    cv.drawContours(image, [cnt], 0, (b,g,r), -1)\n",
    "    # Find contour center and place shape name\n",
    "    M = cv.moments(cnt)\n",
    "    cx = int(M['m10']/M['m00'])\n",
    "    cy = int(M['m01']/M['m00'])\n",
    "    cv.putText(image, shape_name, (cx-50,cy), cv.FONT_HERSHEY_TRIPLEX, 1, (0,0,0), 1)"
   ]
  },
  {
   "cell_type": "code",
   "execution_count": 8,
   "id": "8591fdd8",
   "metadata": {
    "scrolled": true
   },
   "outputs": [],
   "source": [
    "image = cv.imread(\"C://opencv/images/someshapes.jpg\")\n",
    "# grayscale image\n",
    "gray = cv.cvtColor(image, cv.COLOR_BGR2GRAY)\n",
    "\n",
    "cv.imshow(\"Identifying Shapes\", image)\n",
    "cv.waitKey()\n",
    "\n",
    "ret, thresh = cv.threshold(gray, 127, 255, 1)\n",
    "\n",
    "# Extract contours\n",
    "contours, heirarchy = cv.findContours(thresh.copy(), cv.RETR_LIST, cv.CHAIN_APPROX_NONE)\n",
    "\n",
    "for cnt in contours:\n",
    "    approx = cv.approxPolyDP(cnt, .01*cv.arcLength(cnt, True), True)\n",
    "    \n",
    "    if len(approx) == 3:\n",
    "        shape_name = \"Triangle\"\n",
    "        draw_label_shape(shape_name, cnt, 0,0,255)\n",
    "    \n",
    "    elif len(approx) == 4:\n",
    "        x,y,w,h = cv.boundingRect(cnt)\n",
    "        # check to see if the 4 sided polygon is square or rectangle\n",
    "        # cv.boundingRect returns the topleft and then the width and\n",
    "        if abs(w-h) <= 3:\n",
    "            shape_name = \"Square\"\n",
    "            draw_label_shape(shape_name, cnt, 255,0,255)\n",
    "        \n",
    "        else:\n",
    "            shape_name = \"Rectangle\"\n",
    "            draw_label_shape(shape_name, cnt, 0,255,255)\n",
    "            \n",
    "    elif len(approx) == 10:\n",
    "        shape_name = \"Star\"\n",
    "        draw_label_shape(shape_name, cnt, 0,255,0)\n",
    "    \n",
    "    elif len(approx) >= 15:\n",
    "        shape_name = \"Circle\"\n",
    "        draw_label_shape(shape_name, cnt, 200,110,255)\n",
    "    \n",
    "    cv.imshow(\"Identifying Shapes\", image)\n",
    "    cv.waitKey()\n",
    "\n",
    "\n",
    "\n",
    "cv.destroyAllWindows()"
   ]
  },
  {
   "cell_type": "code",
   "execution_count": null,
   "id": "940c7d9c",
   "metadata": {},
   "outputs": [],
   "source": []
  }
 ],
 "metadata": {
  "kernelspec": {
   "display_name": "Python 3",
   "language": "python",
   "name": "python3"
  }
 },
 "nbformat": 4,
 "nbformat_minor": 5
}
