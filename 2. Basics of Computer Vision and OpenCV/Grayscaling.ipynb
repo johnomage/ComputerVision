{
 "cells": [
  {
   "cell_type": "code",
   "execution_count": 17,
   "id": "2b9559b4",
   "metadata": {},
   "outputs": [],
   "source": [
    "import cv2 as cv, numpy as np"
   ]
  },
  {
   "cell_type": "code",
   "execution_count": 22,
   "id": "5c9c960f",
   "metadata": {},
   "outputs": [],
   "source": [
    "# load image original\n",
    "image = cv.imread(\"C:/opencv/images/input.jpg\")\n",
    "cv.imshow(\"Orignial\", image)\n",
    "cv.waitKey(0)\n",
    "\n",
    "# grayscale original image\n",
    "grey_image = cv.cvtColor(image, cv.COLOR_RGB2GRAY)\n",
    "cv.imshow(\"Gray Scale\", grey_image)\n",
    "cv.waitKey(0)\n",
    "\n",
    "cv.destroyAllWindows()"
   ]
  },
  {
   "cell_type": "raw",
   "id": "18ec5ccd",
   "metadata": {},
   "source": [
    "COLOR SPACE\n",
    "\n",
    "HSV = Hue Saturation Value/Brightness\n",
    "Hue Color Value: 0 - 179\n",
    "Saturation (Vibrancy of Colors): 0 - 255\n",
    "Value (Brightness or Intensity): 0 - 255\n",
    "\n"
   ]
  },
  {
   "cell_type": "code",
   "execution_count": 19,
   "id": "959edc56",
   "metadata": {},
   "outputs": [],
   "source": [
    "# faster method\n",
    "img = cv.imread(\"C:/opencv/images/input.jpg\", 0)\n",
    "cv.imshow(\"Gray Scale\", img)\n",
    "cv.waitKey(0)\n",
    "\n",
    "cv.destroyAllWindows()"
   ]
  }
 ],
 "metadata": {
  "kernelspec": {
   "display_name": "Python 3 (ipykernel)",
   "language": "python",
   "name": "python3"
  },
  "language_info": {
   "codemirror_mode": {
    "name": "ipython",
    "version": 3
   },
   "file_extension": ".py",
   "mimetype": "text/x-python",
   "name": "python",
   "nbconvert_exporter": "python",
   "pygments_lexer": "ipython3",
   "version": "3.9.12"
  }
 },
 "nbformat": 4,
 "nbformat_minor": 5
}
