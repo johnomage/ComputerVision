{
 "cells": [
  {
   "cell_type": "code",
   "execution_count": 6,
   "id": "fb756787",
   "metadata": {},
   "outputs": [],
   "source": [
    "import cv2 as cv, numpy as np"
   ]
  },
  {
   "cell_type": "code",
   "execution_count": 17,
   "id": "d2c23e71",
   "metadata": {},
   "outputs": [],
   "source": [
    "image = np.zeros((512,512,3), np.uint8) # cv.imread(\"c:/opencv/images/input.jpg\")\n",
    "\n",
    "image_bw = np.zeros((512,512), np.uint8)\n",
    "\n",
    "cv.imshow(\"Image\", image)\n",
    "# cv.waitKey(0)\n",
    "cv.imshow(\"Image BW\", image_bw)\n",
    "cv.waitKey(0)\n",
    "cv.destroyAllWindows()"
   ]
  },
  {
   "cell_type": "markdown",
   "id": "b1b8f4a9",
   "metadata": {},
   "source": [
    "draw rectangle\n",
    "\n",
    "cv2.rectangle(image, (start point), (endpoint), (color), thickness)"
   ]
  },
  {
   "cell_type": "code",
   "execution_count": 20,
   "id": "e8be4112",
   "metadata": {},
   "outputs": [],
   "source": [
    "rect = np.zeros((512,512,3), np.uint8)\n",
    "triaangle = np.zeros()\n",
    "cv.rectangle(rect, (100,100), (300,300), (255,200,150), 3)\n",
    "cv.imshow(\"Rectangle\", rect)\n",
    "cv.waitKey(0)\n",
    "cv.destroyAllWindows()"
   ]
  }
 ],
 "metadata": {
  "kernelspec": {
   "display_name": "Python 3 (ipykernel)",
   "language": "python",
   "name": "python3"
  },
  "language_info": {
   "codemirror_mode": {
    "name": "ipython",
    "version": 3
   },
   "file_extension": ".py",
   "mimetype": "text/x-python",
   "name": "python",
   "nbconvert_exporter": "python",
   "pygments_lexer": "ipython3",
   "version": "3.9.12"
  }
 },
 "nbformat": 4,
 "nbformat_minor": 5
}
