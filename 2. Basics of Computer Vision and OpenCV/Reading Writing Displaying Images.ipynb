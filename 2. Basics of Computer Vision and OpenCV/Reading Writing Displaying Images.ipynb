{
 "cells": [
  {
   "cell_type": "code",
   "execution_count": 1,
   "id": "c9bef3a6",
   "metadata": {},
   "outputs": [],
   "source": [
    "import cv2 as cv, numpy as np"
   ]
  },
  {
   "cell_type": "markdown",
   "id": "eb73f21f",
   "metadata": {},
   "source": [
    "load first image"
   ]
  },
  {
   "cell_type": "code",
   "execution_count": null,
   "id": "60f7930a",
   "metadata": {},
   "outputs": [],
   "source": []
  },
  {
   "cell_type": "code",
   "execution_count": 10,
   "id": "a814ade0",
   "metadata": {},
   "outputs": [],
   "source": [
    "cv.destroyAllWindows()"
   ]
  },
  {
   "cell_type": "code",
   "execution_count": 4,
   "id": "8f529ced",
   "metadata": {},
   "outputs": [],
   "source": [
    "# path = \"C:/opencv/images\"\n",
    "image = cv.imread(\"C:/opencv/images/candy.jpg\")\n",
    "cv.imshow(\"Candy\", image)\n",
    "cv.waitKey(5000) #5000 toleave it opened for 5000ms. 0 or blank waits for a key to be pressed\n",
    "cv.destroyAllWindows()"
   ]
  },
  {
   "cell_type": "code",
   "execution_count": 6,
   "id": "a08eb83b",
   "metadata": {},
   "outputs": [
    {
     "name": "stdout",
     "output_type": "stream",
     "text": [
      "(778, 1383, 3)\n"
     ]
    }
   ],
   "source": [
    "print(image.shape)"
   ]
  },
  {
   "cell_type": "raw",
   "id": "5cb33f12",
   "metadata": {},
   "source": [
    "# image height = 778\n",
    "# image width = 1383\n",
    "# 3 = there are three other components (RGB) that make up the image"
   ]
  },
  {
   "cell_type": "code",
   "execution_count": null,
   "id": "4386adf6",
   "metadata": {},
   "outputs": [],
   "source": []
  }
 ],
 "metadata": {
  "kernelspec": {
   "display_name": "Python 3 (ipykernel)",
   "language": "python",
   "name": "python3"
  },
  "language_info": {
   "codemirror_mode": {
    "name": "ipython",
    "version": 3
   },
   "file_extension": ".py",
   "mimetype": "text/x-python",
   "name": "python",
   "nbconvert_exporter": "python",
   "pygments_lexer": "ipython3",
   "version": "3.9.12"
  }
 },
 "nbformat": 4,
 "nbformat_minor": 5
}
